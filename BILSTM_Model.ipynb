{
 "cells": [
  {
   "cell_type": "markdown",
   "metadata": {
    "papermill": {
     "duration": 0.027237,
     "end_time": "2021-03-07T08:49:02.251558",
     "exception": false,
     "start_time": "2021-03-07T08:49:02.224321",
     "status": "completed"
    },
    "tags": []
   },
   "source": [
    "Code Author -\n",
    "@ Naman_Jaswani"
   ]
  },
  {
   "cell_type": "code",
   "execution_count": 1,
   "metadata": {
    "_cell_guid": "b1076dfc-b9ad-4769-8c92-a6c4dae69d19",
    "_uuid": "8f2839f25d086af736a60e9eeb907d3b93b6e0e5",
    "execution": {
     "iopub.execute_input": "2021-03-07T08:49:02.307409Z",
     "iopub.status.busy": "2021-03-07T08:49:02.306697Z",
     "iopub.status.idle": "2021-03-07T08:49:09.991833Z",
     "shell.execute_reply": "2021-03-07T08:49:09.992466Z"
    },
    "papermill": {
     "duration": 7.71575,
     "end_time": "2021-03-07T08:49:09.993243",
     "exception": false,
     "start_time": "2021-03-07T08:49:02.277493",
     "status": "completed"
    },
    "tags": []
   },
   "outputs": [],
   "source": [
    "import numpy as np\n",
    "import pandas as pd\n",
    "import json\n",
    "import re\n",
    "import ast\n",
    "\n",
    "import nltk\n",
    "from nltk.corpus import stopwords\n",
    "from nltk.stem.porter import PorterStemmer\n",
    "from nltk.tokenize import word_tokenize\n",
    "\n",
    "from tqdm.notebook import tqdm\n",
    "import gc\n",
    "\n",
    "import matplotlib.pyplot as plt\n",
    "\n",
    "# Model\n",
    "import keras\n",
    "import tensorflow as tf\n",
    "from tensorflow.keras.models import Sequential\n",
    "from tensorflow.keras import Model, Input\n",
    "from tensorflow.keras.layers import LSTM, Embedding, Dense\n",
    "from tensorflow.keras.layers import TimeDistributed, SpatialDropout1D, Bidirectional\n",
    "\n",
    "import os\n",
    "\n",
    "import warnings\n",
    "warnings.filterwarnings('ignore')\n"
   ]
  },
  {
   "cell_type": "code",
   "execution_count": 2,
   "metadata": {
    "execution": {
     "iopub.execute_input": "2021-03-07T08:49:10.054108Z",
     "iopub.status.busy": "2021-03-07T08:49:10.053338Z",
     "iopub.status.idle": "2021-03-07T08:49:10.066194Z",
     "shell.execute_reply": "2021-03-07T08:49:10.065486Z"
    },
    "papermill": {
     "duration": 0.044227,
     "end_time": "2021-03-07T08:49:10.066380",
     "exception": false,
     "start_time": "2021-03-07T08:49:10.022153",
     "status": "completed"
    },
    "tags": []
   },
   "outputs": [
    {
     "name": "stdout",
     "output_type": "stream",
     "text": [
      "2.4.1\n",
      "2.4.3\n"
     ]
    }
   ],
   "source": [
    "print(tf.__version__)\n",
    "print(keras.__version__)"
   ]
  },
  {
   "cell_type": "code",
   "execution_count": 3,
   "metadata": {
    "execution": {
     "iopub.execute_input": "2021-03-07T08:49:10.127236Z",
     "iopub.status.busy": "2021-03-07T08:49:10.125597Z",
     "iopub.status.idle": "2021-03-07T08:49:14.063099Z",
     "shell.execute_reply": "2021-03-07T08:49:14.062255Z"
    },
    "papermill": {
     "duration": 3.969436,
     "end_time": "2021-03-07T08:49:14.063288",
     "exception": false,
     "start_time": "2021-03-07T08:49:10.093852",
     "status": "completed"
    },
    "tags": []
   },
   "outputs": [],
   "source": [
    "top = pd.read_pickle('../input/march-6-complete-tagged/TOP WEAR.pickle')\n",
    "bottom = pd.read_pickle('../input/march-6-complete-tagged/BOTTOM WEAR.pickle')\n",
    "foot = pd.read_pickle('../input/march-6-complete-tagged/FOOT WEAR.pickle')\n",
    "full = pd.read_pickle('../input/march-6-complete-tagged/FULL WEAR.pickle')\n",
    "acc = pd.read_pickle('../input/march-6-complete-tagged/ACCESSORIES.pickle')"
   ]
  },
  {
   "cell_type": "code",
   "execution_count": 4,
   "metadata": {
    "execution": {
     "iopub.execute_input": "2021-03-07T08:49:14.154212Z",
     "iopub.status.busy": "2021-03-07T08:49:14.126118Z",
     "iopub.status.idle": "2021-03-07T08:49:14.288436Z",
     "shell.execute_reply": "2021-03-07T08:49:14.287718Z"
    },
    "papermill": {
     "duration": 0.195951,
     "end_time": "2021-03-07T08:49:14.288598",
     "exception": false,
     "start_time": "2021-03-07T08:49:14.092647",
     "status": "completed"
    },
    "tags": []
   },
   "outputs": [
    {
     "data": {
      "text/plain": [
       "(311716, 5)"
      ]
     },
     "execution_count": 4,
     "metadata": {},
     "output_type": "execute_result"
    }
   ],
   "source": [
    "lst = [top, bottom, foot, full, acc]\n",
    "data = pd.concat(lst)\n",
    "data = data.reset_index(drop=True)\n",
    "data.shape"
   ]
  },
  {
   "cell_type": "code",
   "execution_count": 5,
   "metadata": {
    "execution": {
     "iopub.execute_input": "2021-03-07T08:49:14.350579Z",
     "iopub.status.busy": "2021-03-07T08:49:14.349692Z",
     "iopub.status.idle": "2021-03-07T08:49:14.352483Z",
     "shell.execute_reply": "2021-03-07T08:49:14.353289Z"
    },
    "papermill": {
     "duration": 0.037936,
     "end_time": "2021-03-07T08:49:14.353558",
     "exception": false,
     "start_time": "2021-03-07T08:49:14.315622",
     "status": "completed"
    },
    "tags": []
   },
   "outputs": [],
   "source": [
    "del top\n",
    "del bottom\n",
    "del foot\n",
    "del full\n",
    "del acc"
   ]
  },
  {
   "cell_type": "code",
   "execution_count": 6,
   "metadata": {
    "execution": {
     "iopub.execute_input": "2021-03-07T08:49:14.418551Z",
     "iopub.status.busy": "2021-03-07T08:49:14.417844Z",
     "iopub.status.idle": "2021-03-07T08:49:14.421931Z",
     "shell.execute_reply": "2021-03-07T08:49:14.421338Z"
    },
    "papermill": {
     "duration": 0.04012,
     "end_time": "2021-03-07T08:49:14.422104",
     "exception": false,
     "start_time": "2021-03-07T08:49:14.381984",
     "status": "completed"
    },
    "tags": []
   },
   "outputs": [],
   "source": [
    "class CFG:\n",
    "    BOOL_REMOVE_TAGS=True\n",
    "    REMOVE_TAGS = ['sunglass_bridge_material',\n",
    "              'watch_case_bezel_material',\n",
    "              'jewellery_set_metal_color',\n",
    "              'jewellery_set_emerald_color',\n",
    "              'sunglass_lens_color',\n",
    "              'jewellery_set_pearl_color',\n",
    "              'jewellery_set_ruby_color',\n",
    "              'jewellery_set_sapphire_color',\n",
    "              'jewellery_set_silver_color',\n",
    "              'jewellery_set_gemstone',\n",
    "              'trouser_occasion',\n",
    "              'jean_bottomwear_length_type',\n",
    "              'gown_belt_material',\n",
    "              'sari_border_length',\n",
    "              'gown_bust_size',\n",
    "              'lining material',\n",
    "              'detail_placement'\n",
    "              ]\n",
    "    \n",
    "    BATCH_SIZE = 16\n",
    "    EPOCHS = 5\n",
    "    MAX_LEN=90\n",
    "    NUM_SAMPLES=20000\n",
    "    \n",
    "        "
   ]
  },
  {
   "cell_type": "code",
   "execution_count": 7,
   "metadata": {
    "execution": {
     "iopub.execute_input": "2021-03-07T08:49:14.515626Z",
     "iopub.status.busy": "2021-03-07T08:49:14.514948Z",
     "iopub.status.idle": "2021-03-07T08:49:14.527404Z",
     "shell.execute_reply": "2021-03-07T08:49:14.526094Z"
    },
    "papermill": {
     "duration": 0.076229,
     "end_time": "2021-03-07T08:49:14.527597",
     "exception": false,
     "start_time": "2021-03-07T08:49:14.451368",
     "status": "completed"
    },
    "tags": []
   },
   "outputs": [
    {
     "data": {
      "text/plain": [
       "array(['Top wear', 'Bottom Wear', 'Foot Wear', 'Full wear', 'Accessories'],\n",
       "      dtype=object)"
      ]
     },
     "execution_count": 7,
     "metadata": {},
     "output_type": "execute_result"
    }
   ],
   "source": [
    "data['Category'].unique()"
   ]
  },
  {
   "cell_type": "code",
   "execution_count": 8,
   "metadata": {
    "execution": {
     "iopub.execute_input": "2021-03-07T08:49:14.638108Z",
     "iopub.status.busy": "2021-03-07T08:49:14.637363Z",
     "iopub.status.idle": "2021-03-07T08:49:14.871659Z",
     "shell.execute_reply": "2021-03-07T08:49:14.871003Z"
    },
    "papermill": {
     "duration": 0.315557,
     "end_time": "2021-03-07T08:49:14.871847",
     "exception": false,
     "start_time": "2021-03-07T08:49:14.556290",
     "status": "completed"
    },
    "tags": []
   },
   "outputs": [
    {
     "name": "stdout",
     "output_type": "stream",
     "text": [
      "Top wear (145327, 5)\n",
      "Bottom Wear (25729, 5)\n",
      "Full wear (35835, 5)\n",
      "Foot Wear (46100, 5)\n",
      "Accessories (58725, 5)\n"
     ]
    }
   ],
   "source": [
    "for cat in ['Top wear', 'Bottom Wear', 'Full wear', 'Foot Wear', 'Accessories']:\n",
    "    print(cat, data[data['Category']==cat].shape)"
   ]
  },
  {
   "cell_type": "code",
   "execution_count": 9,
   "metadata": {
    "execution": {
     "iopub.execute_input": "2021-03-07T08:49:14.937786Z",
     "iopub.status.busy": "2021-03-07T08:49:14.936807Z",
     "iopub.status.idle": "2021-03-07T08:49:14.940786Z",
     "shell.execute_reply": "2021-03-07T08:49:14.940108Z"
    },
    "papermill": {
     "duration": 0.040249,
     "end_time": "2021-03-07T08:49:14.940955",
     "exception": false,
     "start_time": "2021-03-07T08:49:14.900706",
     "status": "completed"
    },
    "tags": []
   },
   "outputs": [],
   "source": [
    "n_samples = CFG.NUM_SAMPLES"
   ]
  },
  {
   "cell_type": "code",
   "execution_count": 10,
   "metadata": {
    "execution": {
     "iopub.execute_input": "2021-03-07T08:49:15.058352Z",
     "iopub.status.busy": "2021-03-07T08:49:15.057551Z",
     "iopub.status.idle": "2021-03-07T08:49:15.750103Z",
     "shell.execute_reply": "2021-03-07T08:49:15.749414Z"
    },
    "papermill": {
     "duration": 0.778981,
     "end_time": "2021-03-07T08:49:15.750280",
     "exception": false,
     "start_time": "2021-03-07T08:49:14.971299",
     "status": "completed"
    },
    "tags": []
   },
   "outputs": [
    {
     "data": {
      "text/plain": [
       "0"
      ]
     },
     "execution_count": 10,
     "metadata": {},
     "output_type": "execute_result"
    }
   ],
   "source": [
    "data_top = data[data['Category']=='Top wear']\n",
    "# data_top = data_top.sample(frac=1).reset_index(drop=True)\n",
    "if(n_samples < data_top.shape[0]):\n",
    "    data_top = data_top[:n_samples]\n",
    "\n",
    "data_bottom = data[data['Category']=='Bottom Wear']\n",
    "# data_bottom = data_bottom.sample(frac=1).reset_index(drop=True)\n",
    "if(n_samples < data_bottom.shape[0]):\n",
    "    data_bottom = data_bottom[:n_samples]\n",
    "\n",
    "\n",
    "data_foot = data[data['Category']=='Foot Wear']\n",
    "# data_foot = data_foot.sample(frac=1).reset_index(drop=True)\n",
    "if(n_samples < data_foot.shape[0]):\n",
    "    data_foot = data_foot[:n_samples]\n",
    "\n",
    "\n",
    "\n",
    "data_full = data[data['Category']=='Full wear']\n",
    "# data_full = data_full.sample(frac=1).reset_index(drop=True)\n",
    "if(n_samples < data_full.shape[0]):\n",
    "    data_full = data_full[:n_samples]\n",
    "\n",
    "\n",
    "data_acc = data[data['Category']=='Accessories']\n",
    "# data_acc = data_acc.sample(frac=1).reset_index(drop=True)\n",
    "if(n_samples < data_acc.shape[0]):\n",
    "    data_acc = data_acc[:n_samples]\n",
    "\n",
    "\n",
    "\n",
    "data = data_top.append([data_bottom, data_foot, data_full, data_acc])\n",
    "del data_bottom\n",
    "del data_foot\n",
    "del data_full\n",
    "del data_acc\n",
    "\n",
    "gc.collect()"
   ]
  },
  {
   "cell_type": "code",
   "execution_count": 11,
   "metadata": {
    "execution": {
     "iopub.execute_input": "2021-03-07T08:49:15.817663Z",
     "iopub.status.busy": "2021-03-07T08:49:15.816970Z",
     "iopub.status.idle": "2021-03-07T08:49:15.858148Z",
     "shell.execute_reply": "2021-03-07T08:49:15.858609Z"
    },
    "papermill": {
     "duration": 0.07754,
     "end_time": "2021-03-07T08:49:15.858829",
     "exception": false,
     "start_time": "2021-03-07T08:49:15.781289",
     "status": "completed"
    },
    "tags": []
   },
   "outputs": [
    {
     "data": {
      "text/html": [
       "<div>\n",
       "<style scoped>\n",
       "    .dataframe tbody tr th:only-of-type {\n",
       "        vertical-align: middle;\n",
       "    }\n",
       "\n",
       "    .dataframe tbody tr th {\n",
       "        vertical-align: top;\n",
       "    }\n",
       "\n",
       "    .dataframe thead th {\n",
       "        text-align: right;\n",
       "    }\n",
       "</style>\n",
       "<table border=\"1\" class=\"dataframe\">\n",
       "  <thead>\n",
       "    <tr style=\"text-align: right;\">\n",
       "      <th></th>\n",
       "      <th>Unnamed: 0</th>\n",
       "      <th>Category</th>\n",
       "      <th>vertical</th>\n",
       "      <th>Descriptions</th>\n",
       "      <th>Tag</th>\n",
       "    </tr>\n",
       "  </thead>\n",
       "  <tbody>\n",
       "    <tr>\n",
       "      <th>0</th>\n",
       "      <td>1</td>\n",
       "      <td>Top wear</td>\n",
       "      <td>t_shirt</td>\n",
       "      <td>GAP's staples have the perfect slouchy, relaxe...</td>\n",
       "      <td>[B_brand, O, O, O, O, O, O, O, B_fit, I_fit, O...</td>\n",
       "    </tr>\n",
       "    <tr>\n",
       "      <th>1</th>\n",
       "      <td>2</td>\n",
       "      <td>Top wear</td>\n",
       "      <td>t_shirt</td>\n",
       "      <td>WILLIAM TEE,XL</td>\n",
       "      <td>[O, O, O, B_size]</td>\n",
       "    </tr>\n",
       "    <tr>\n",
       "      <th>2</th>\n",
       "      <td>3</td>\n",
       "      <td>Top wear</td>\n",
       "      <td>t_shirt</td>\n",
       "      <td>Grey Melange printed T-shirt, has a round neck...</td>\n",
       "      <td>[B_color, B_brand, B_pattern, O, O, O, O, B_co...</td>\n",
       "    </tr>\n",
       "    <tr>\n",
       "      <th>3</th>\n",
       "      <td>4</td>\n",
       "      <td>Top wear</td>\n",
       "      <td>t_shirt</td>\n",
       "      <td>Gear up for a refreshing jogging session and r...</td>\n",
       "      <td>[O, O, O, O, O, O, O, O, O, O, O, O, B_fit, O,...</td>\n",
       "    </tr>\n",
       "    <tr>\n",
       "      <th>4</th>\n",
       "      <td>5</td>\n",
       "      <td>Top wear</td>\n",
       "      <td>t_shirt</td>\n",
       "      <td>Burgundy, white and black colourblocked T-shir...</td>\n",
       "      <td>[O, O, B_color, O, B_color, O, O, O, O, O, B_c...</td>\n",
       "    </tr>\n",
       "    <tr>\n",
       "      <th>...</th>\n",
       "      <td>...</td>\n",
       "      <td>...</td>\n",
       "      <td>...</td>\n",
       "      <td>...</td>\n",
       "      <td>...</td>\n",
       "    </tr>\n",
       "    <tr>\n",
       "      <th>99995</th>\n",
       "      <td>273001</td>\n",
       "      <td>Accessories</td>\n",
       "      <td>watch</td>\n",
       "      <td>Display Type: Analogue; Movement Type: Quartz:...</td>\n",
       "      <td>[O, O, O, O, O, O, O, O, O, O, O, O, O, O, O, ...</td>\n",
       "    </tr>\n",
       "    <tr>\n",
       "      <th>99996</th>\n",
       "      <td>273002</td>\n",
       "      <td>Accessories</td>\n",
       "      <td>watch</td>\n",
       "      <td>Display Type: Analogue; Movement Type: Quartz:...</td>\n",
       "      <td>[O, O, O, O, O, O, O, O, O, O, O, O, O, B_colo...</td>\n",
       "    </tr>\n",
       "    <tr>\n",
       "      <th>99997</th>\n",
       "      <td>273003</td>\n",
       "      <td>Accessories</td>\n",
       "      <td>watch</td>\n",
       "      <td>Display Type: Analog; Movement Type: Quartz ; ...</td>\n",
       "      <td>[O, O, O, O, O, O, O, O, O, O, B_closure, O, O...</td>\n",
       "    </tr>\n",
       "    <tr>\n",
       "      <th>99998</th>\n",
       "      <td>273004</td>\n",
       "      <td>Accessories</td>\n",
       "      <td>watch</td>\n",
       "      <td>Display Type: Analogue; Movement Type: Quartz:...</td>\n",
       "      <td>[O, O, O, O, O, O, O, O, O, O, O, O, O, B_colo...</td>\n",
       "    </tr>\n",
       "    <tr>\n",
       "      <th>99999</th>\n",
       "      <td>273005</td>\n",
       "      <td>Accessories</td>\n",
       "      <td>watch</td>\n",
       "      <td>Display Type: Analog; Movement Type: Quartz ; ...</td>\n",
       "      <td>[O, O, O, O, O, O, O, O, O, O, B_closure, O, O...</td>\n",
       "    </tr>\n",
       "  </tbody>\n",
       "</table>\n",
       "<p>100000 rows × 5 columns</p>\n",
       "</div>"
      ],
      "text/plain": [
       "       Unnamed: 0     Category vertical  \\\n",
       "0               1     Top wear  t_shirt   \n",
       "1               2     Top wear  t_shirt   \n",
       "2               3     Top wear  t_shirt   \n",
       "3               4     Top wear  t_shirt   \n",
       "4               5     Top wear  t_shirt   \n",
       "...           ...          ...      ...   \n",
       "99995      273001  Accessories    watch   \n",
       "99996      273002  Accessories    watch   \n",
       "99997      273003  Accessories    watch   \n",
       "99998      273004  Accessories    watch   \n",
       "99999      273005  Accessories    watch   \n",
       "\n",
       "                                            Descriptions  \\\n",
       "0      GAP's staples have the perfect slouchy, relaxe...   \n",
       "1                                         WILLIAM TEE,XL   \n",
       "2      Grey Melange printed T-shirt, has a round neck...   \n",
       "3      Gear up for a refreshing jogging session and r...   \n",
       "4      Burgundy, white and black colourblocked T-shir...   \n",
       "...                                                  ...   \n",
       "99995  Display Type: Analogue; Movement Type: Quartz:...   \n",
       "99996  Display Type: Analogue; Movement Type: Quartz:...   \n",
       "99997  Display Type: Analog; Movement Type: Quartz ; ...   \n",
       "99998  Display Type: Analogue; Movement Type: Quartz:...   \n",
       "99999  Display Type: Analog; Movement Type: Quartz ; ...   \n",
       "\n",
       "                                                     Tag  \n",
       "0      [B_brand, O, O, O, O, O, O, O, B_fit, I_fit, O...  \n",
       "1                                      [O, O, O, B_size]  \n",
       "2      [B_color, B_brand, B_pattern, O, O, O, O, B_co...  \n",
       "3      [O, O, O, O, O, O, O, O, O, O, O, O, B_fit, O,...  \n",
       "4      [O, O, B_color, O, B_color, O, O, O, O, O, B_c...  \n",
       "...                                                  ...  \n",
       "99995  [O, O, O, O, O, O, O, O, O, O, O, O, O, O, O, ...  \n",
       "99996  [O, O, O, O, O, O, O, O, O, O, O, O, O, B_colo...  \n",
       "99997  [O, O, O, O, O, O, O, O, O, O, B_closure, O, O...  \n",
       "99998  [O, O, O, O, O, O, O, O, O, O, O, O, O, B_colo...  \n",
       "99999  [O, O, O, O, O, O, O, O, O, O, B_closure, O, O...  \n",
       "\n",
       "[100000 rows x 5 columns]"
      ]
     },
     "execution_count": 11,
     "metadata": {},
     "output_type": "execute_result"
    }
   ],
   "source": [
    "data = data.reset_index(drop=True)\n",
    "data"
   ]
  },
  {
   "cell_type": "code",
   "execution_count": 12,
   "metadata": {
    "execution": {
     "iopub.execute_input": "2021-03-07T08:49:15.956487Z",
     "iopub.status.busy": "2021-03-07T08:49:15.926860Z",
     "iopub.status.idle": "2021-03-07T08:51:27.629983Z",
     "shell.execute_reply": "2021-03-07T08:51:27.293965Z"
    },
    "papermill": {
     "duration": 131.741582,
     "end_time": "2021-03-07T08:51:27.630184",
     "exception": false,
     "start_time": "2021-03-07T08:49:15.888602",
     "status": "completed"
    },
    "tags": []
   },
   "outputs": [
    {
     "data": {
      "application/vnd.jupyter.widget-view+json": {
       "model_id": "513dd90ed6524cbd98c355cae7d2ab5d",
       "version_major": 2,
       "version_minor": 0
      },
      "text/plain": [
       "  0%|          | 0/100000 [00:00<?, ?it/s]"
      ]
     },
     "metadata": {},
     "output_type": "display_data"
    }
   ],
   "source": [
    "if CFG.BOOL_REMOVE_TAGS:\n",
    "\n",
    "    r_tags = []\n",
    "    for t in CFG.REMOVE_TAGS:\n",
    "        r_tags.append(f'B_{t}')\n",
    "        r_tags.append(f'I_{t}')    \n",
    "\n",
    "    for i in tqdm(range(data.shape[0])):\n",
    "        l = data['Tag'][i]\n",
    "        for j in range(len(l)):\n",
    "            if(l[j] in r_tags):\n",
    "    #             print('yes')\n",
    "                l[j] = 'O'\n",
    "        data['Tag'][i] = l"
   ]
  },
  {
   "cell_type": "code",
   "execution_count": 13,
   "metadata": {
    "execution": {
     "iopub.execute_input": "2021-03-07T08:51:27.704735Z",
     "iopub.status.busy": "2021-03-07T08:51:27.703980Z",
     "iopub.status.idle": "2021-03-07T08:51:27.707505Z",
     "shell.execute_reply": "2021-03-07T08:51:27.706855Z"
    },
    "papermill": {
     "duration": 0.041643,
     "end_time": "2021-03-07T08:51:27.707667",
     "exception": false,
     "start_time": "2021-03-07T08:51:27.666024",
     "status": "completed"
    },
    "tags": []
   },
   "outputs": [
    {
     "data": {
      "text/plain": [
       "\"GAP's staples have the perfect slouchy, relaxed fit like this tee. It has a V-neck, short sleeves and a chest patch pocket. This versatile white piece works equally well with skinny jeans or tailoring.\""
      ]
     },
     "execution_count": 13,
     "metadata": {},
     "output_type": "execute_result"
    }
   ],
   "source": [
    "data['Descriptions'][0]"
   ]
  },
  {
   "cell_type": "markdown",
   "metadata": {
    "papermill": {
     "duration": 0.032893,
     "end_time": "2021-03-07T08:51:27.771408",
     "exception": false,
     "start_time": "2021-03-07T08:51:27.738515",
     "status": "completed"
    },
    "tags": []
   },
   "source": [
    "# Test Dataset"
   ]
  },
  {
   "cell_type": "code",
   "execution_count": 14,
   "metadata": {
    "execution": {
     "iopub.execute_input": "2021-03-07T08:51:27.839775Z",
     "iopub.status.busy": "2021-03-07T08:51:27.839073Z",
     "iopub.status.idle": "2021-03-07T08:51:28.220673Z",
     "shell.execute_reply": "2021-03-07T08:51:28.220090Z"
    },
    "papermill": {
     "duration": 0.417642,
     "end_time": "2021-03-07T08:51:28.220880",
     "exception": false,
     "start_time": "2021-03-07T08:51:27.803238",
     "status": "completed"
    },
    "tags": []
   },
   "outputs": [
    {
     "data": {
      "text/plain": [
       "(22421, 4)"
      ]
     },
     "execution_count": 14,
     "metadata": {},
     "output_type": "execute_result"
    }
   ],
   "source": [
    "test = pd.read_csv('../input/new-test-files/test.csv')\n",
    "test_output = pd.read_csv('../input/new-test-files/test_output.csv')\n",
    "test.shape"
   ]
  },
  {
   "cell_type": "markdown",
   "metadata": {
    "papermill": {
     "duration": 0.031659,
     "end_time": "2021-03-07T08:51:28.284606",
     "exception": false,
     "start_time": "2021-03-07T08:51:28.252947",
     "status": "completed"
    },
    "tags": []
   },
   "source": [
    "# BiLSTM data"
   ]
  },
  {
   "cell_type": "code",
   "execution_count": 15,
   "metadata": {
    "execution": {
     "iopub.execute_input": "2021-03-07T08:51:28.430939Z",
     "iopub.status.busy": "2021-03-07T08:51:28.430155Z",
     "iopub.status.idle": "2021-03-07T08:55:48.929670Z",
     "shell.execute_reply": "2021-03-07T08:55:48.928967Z"
    },
    "papermill": {
     "duration": 260.612539,
     "end_time": "2021-03-07T08:55:48.929864",
     "exception": false,
     "start_time": "2021-03-07T08:51:28.317325",
     "status": "completed"
    },
    "tags": []
   },
   "outputs": [
    {
     "data": {
      "application/vnd.jupyter.widget-view+json": {
       "model_id": "4c0364e32f6945f2b79a8c65abc92326",
       "version_major": 2,
       "version_minor": 0
      },
      "text/plain": [
       "  0%|          | 0/100000 [00:00<?, ?it/s]"
      ]
     },
     "metadata": {},
     "output_type": "display_data"
    },
    {
     "data": {
      "text/plain": [
       "(5868634, 4)"
      ]
     },
     "execution_count": 15,
     "metadata": {},
     "output_type": "execute_result"
    }
   ],
   "source": [
    "dataset = pd.DataFrame()\n",
    "lst = []\n",
    "\n",
    "for i in tqdm(range(data.shape[0])):\n",
    "\n",
    "    dcrp = data['Descriptions'][i]\n",
    "    dcrp = word_tokenize(dcrp.lower())\n",
    "    num = [f'Description_{i}']* len(dcrp)  \n",
    "    cat = [data['Category'][i]]*len(dcrp)\n",
    "    \n",
    "    tags = data['Tag'][i]\n",
    "    dct = pd.DataFrame(list(zip(cat, num, dcrp, tags)), columns=['Category','# Description','word', 'tag'])\n",
    "    lst.append(dct)\n",
    "    \n",
    "dataset = pd.concat(lst)\n",
    "dataset = dataset.reset_index(drop=True)\n",
    "dataset.shape\n",
    "\n"
   ]
  },
  {
   "cell_type": "code",
   "execution_count": 16,
   "metadata": {
    "execution": {
     "iopub.execute_input": "2021-03-07T08:55:49.840218Z",
     "iopub.status.busy": "2021-03-07T08:55:49.812488Z",
     "iopub.status.idle": "2021-03-07T08:56:13.614078Z",
     "shell.execute_reply": "2021-03-07T08:56:13.613253Z"
    },
    "papermill": {
     "duration": 24.650842,
     "end_time": "2021-03-07T08:56:13.614335",
     "exception": false,
     "start_time": "2021-03-07T08:55:48.963493",
     "status": "completed"
    },
    "tags": []
   },
   "outputs": [
    {
     "data": {
      "application/vnd.jupyter.widget-view+json": {
       "model_id": "67974e0d2dcd4df0adf77e59f41f712f",
       "version_major": 2,
       "version_minor": 0
      },
      "text/plain": [
       "  0%|          | 0/22421 [00:00<?, ?it/s]"
      ]
     },
     "metadata": {},
     "output_type": "display_data"
    },
    {
     "data": {
      "text/html": [
       "<div>\n",
       "<style scoped>\n",
       "    .dataframe tbody tr th:only-of-type {\n",
       "        vertical-align: middle;\n",
       "    }\n",
       "\n",
       "    .dataframe tbody tr th {\n",
       "        vertical-align: top;\n",
       "    }\n",
       "\n",
       "    .dataframe thead th {\n",
       "        text-align: right;\n",
       "    }\n",
       "</style>\n",
       "<table border=\"1\" class=\"dataframe\">\n",
       "  <thead>\n",
       "    <tr style=\"text-align: right;\">\n",
       "      <th></th>\n",
       "      <th>Category</th>\n",
       "      <th># Description</th>\n",
       "      <th>word</th>\n",
       "    </tr>\n",
       "  </thead>\n",
       "  <tbody>\n",
       "    <tr>\n",
       "      <th>0</th>\n",
       "      <td>Top Wear</td>\n",
       "      <td>Description_0</td>\n",
       "      <td>own</td>\n",
       "    </tr>\n",
       "    <tr>\n",
       "      <th>1</th>\n",
       "      <td>Top Wear</td>\n",
       "      <td>Description_0</td>\n",
       "      <td>a</td>\n",
       "    </tr>\n",
       "    <tr>\n",
       "      <th>2</th>\n",
       "      <td>Top Wear</td>\n",
       "      <td>Description_0</td>\n",
       "      <td>unique</td>\n",
       "    </tr>\n",
       "    <tr>\n",
       "      <th>3</th>\n",
       "      <td>Top Wear</td>\n",
       "      <td>Description_0</td>\n",
       "      <td>piece</td>\n",
       "    </tr>\n",
       "    <tr>\n",
       "      <th>4</th>\n",
       "      <td>Top Wear</td>\n",
       "      <td>Description_0</td>\n",
       "      <td>from</td>\n",
       "    </tr>\n",
       "  </tbody>\n",
       "</table>\n",
       "</div>"
      ],
      "text/plain": [
       "   Category  # Description    word\n",
       "0  Top Wear  Description_0     own\n",
       "1  Top Wear  Description_0       a\n",
       "2  Top Wear  Description_0  unique\n",
       "3  Top Wear  Description_0   piece\n",
       "4  Top Wear  Description_0    from"
      ]
     },
     "execution_count": 16,
     "metadata": {},
     "output_type": "execute_result"
    }
   ],
   "source": [
    "test_dataset = pd.DataFrame()\n",
    "lst = []\n",
    "\n",
    "for i in tqdm(range(test.shape[0])):\n",
    "\n",
    "    dcrp = ast.literal_eval(test['Words'][i])\n",
    "    dcrp_ = []\n",
    "    for x in dcrp:\n",
    "        dcrp_.append(x.lower())\n",
    "        \n",
    "    num = [f'Description_{i}']* len(dcrp_)  \n",
    "    cat = [test['Category'][i]]*len(dcrp_)\n",
    "    \n",
    "#     tags = test['Tag'][i]\n",
    "    dct = pd.DataFrame(list(zip(cat, num, dcrp_)), columns=['Category','# Description','word'])\n",
    "    lst.append(dct)\n",
    "    \n",
    "test_dataset = pd.concat(lst)\n",
    "test_dataset = test_dataset.reset_index(drop=True)\n",
    "test_dataset.head()\n"
   ]
  },
  {
   "cell_type": "code",
   "execution_count": 17,
   "metadata": {
    "execution": {
     "iopub.execute_input": "2021-03-07T08:56:14.282339Z",
     "iopub.status.busy": "2021-03-07T08:56:14.281625Z",
     "iopub.status.idle": "2021-03-07T08:56:14.894016Z",
     "shell.execute_reply": "2021-03-07T08:56:14.893298Z"
    },
    "papermill": {
     "duration": 1.238347,
     "end_time": "2021-03-07T08:56:14.894177",
     "exception": false,
     "start_time": "2021-03-07T08:56:13.655830",
     "status": "completed"
    },
    "tags": []
   },
   "outputs": [
    {
     "data": {
      "text/plain": [
       "100"
      ]
     },
     "execution_count": 17,
     "metadata": {},
     "output_type": "execute_result"
    }
   ],
   "source": [
    "# of unique tags\n",
    "dataset['tag'].nunique()"
   ]
  },
  {
   "cell_type": "code",
   "execution_count": 18,
   "metadata": {
    "execution": {
     "iopub.execute_input": "2021-03-07T08:56:16.474015Z",
     "iopub.status.busy": "2021-03-07T08:56:16.240948Z",
     "iopub.status.idle": "2021-03-07T08:56:16.477287Z",
     "shell.execute_reply": "2021-03-07T08:56:16.476587Z"
    },
    "papermill": {
     "duration": 1.545185,
     "end_time": "2021-03-07T08:56:16.477460",
     "exception": false,
     "start_time": "2021-03-07T08:56:14.932275",
     "status": "completed"
    },
    "tags": []
   },
   "outputs": [],
   "source": [
    "# Unique words, Unique tags\n",
    "\n",
    "words = list(set(list(dataset['word'].values)+list(test_dataset['word'].values)))\n",
    "words.append('ENDPAD')\n",
    "tags = list(set(dataset['tag'].values))"
   ]
  },
  {
   "cell_type": "code",
   "execution_count": 19,
   "metadata": {
    "execution": {
     "iopub.execute_input": "2021-03-07T08:56:16.551240Z",
     "iopub.status.busy": "2021-03-07T08:56:16.550303Z",
     "iopub.status.idle": "2021-03-07T08:56:16.552801Z",
     "shell.execute_reply": "2021-03-07T08:56:16.553293Z"
    },
    "papermill": {
     "duration": 0.042198,
     "end_time": "2021-03-07T08:56:16.553471",
     "exception": false,
     "start_time": "2021-03-07T08:56:16.511273",
     "status": "completed"
    },
    "tags": []
   },
   "outputs": [],
   "source": [
    "num_words = len(words)\n",
    "num_tags = len(tags)"
   ]
  },
  {
   "cell_type": "code",
   "execution_count": 20,
   "metadata": {
    "execution": {
     "iopub.execute_input": "2021-03-07T08:56:16.628447Z",
     "iopub.status.busy": "2021-03-07T08:56:16.627411Z",
     "iopub.status.idle": "2021-03-07T08:56:16.635036Z",
     "shell.execute_reply": "2021-03-07T08:56:16.635494Z"
    },
    "papermill": {
     "duration": 0.047466,
     "end_time": "2021-03-07T08:56:16.635702",
     "exception": false,
     "start_time": "2021-03-07T08:56:16.588236",
     "status": "completed"
    },
    "tags": []
   },
   "outputs": [],
   "source": [
    "class Sentence_getter(object):\n",
    "    def __init__(self, data):\n",
    "        self.data = data\n",
    "        agg_fun = lambda s: [(w, t) for w,t in zip(s['word'].values.tolist(),\n",
    "                                                  s['tag'].values.tolist())]\n",
    "\n",
    "        self.grouped = self.data.groupby('# Description').apply(agg_fun)\n",
    "        \n",
    "        self.sentences = [i for i in self.grouped]"
   ]
  },
  {
   "cell_type": "code",
   "execution_count": 21,
   "metadata": {
    "execution": {
     "iopub.execute_input": "2021-03-07T08:56:16.709386Z",
     "iopub.status.busy": "2021-03-07T08:56:16.708333Z",
     "iopub.status.idle": "2021-03-07T08:56:16.715123Z",
     "shell.execute_reply": "2021-03-07T08:56:16.715684Z"
    },
    "papermill": {
     "duration": 0.045853,
     "end_time": "2021-03-07T08:56:16.715903",
     "exception": false,
     "start_time": "2021-03-07T08:56:16.670050",
     "status": "completed"
    },
    "tags": []
   },
   "outputs": [],
   "source": [
    "class Test_Sentence_getter(object):\n",
    "    def __init__(self, data):\n",
    "        self.data = data\n",
    "        agg_fun = lambda s: [w for w in s['word'].values.tolist()]\n",
    "                                                  \n",
    "        self.grouped = self.data.groupby('# Description').apply(agg_fun)\n",
    "        \n",
    "        self.sentences = [self.grouped[f'Description_{i}'] for i in range(len(self.grouped))]"
   ]
  },
  {
   "cell_type": "code",
   "execution_count": 22,
   "metadata": {
    "execution": {
     "iopub.execute_input": "2021-03-07T08:56:16.790621Z",
     "iopub.status.busy": "2021-03-07T08:56:16.789687Z",
     "iopub.status.idle": "2021-03-07T08:56:34.207424Z",
     "shell.execute_reply": "2021-03-07T08:56:34.208019Z"
    },
    "papermill": {
     "duration": 17.45801,
     "end_time": "2021-03-07T08:56:34.208261",
     "exception": false,
     "start_time": "2021-03-07T08:56:16.750251",
     "status": "completed"
    },
    "tags": []
   },
   "outputs": [],
   "source": [
    "getter= Sentence_getter(dataset)\n",
    "sentences = getter.sentences\n",
    "\n",
    "test_getter= Test_Sentence_getter(test_dataset)\n",
    "test_sentences = test_getter.sentences\n",
    "\n",
    "# print(test_sentences[3])\n",
    "\n",
    "del getter\n",
    "del test_getter\n"
   ]
  },
  {
   "cell_type": "code",
   "execution_count": 23,
   "metadata": {
    "execution": {
     "iopub.execute_input": "2021-03-07T08:56:34.281831Z",
     "iopub.status.busy": "2021-03-07T08:56:34.280758Z",
     "iopub.status.idle": "2021-03-07T08:56:34.329163Z",
     "shell.execute_reply": "2021-03-07T08:56:34.328509Z"
    },
    "papermill": {
     "duration": 0.086696,
     "end_time": "2021-03-07T08:56:34.329326",
     "exception": false,
     "start_time": "2021-03-07T08:56:34.242630",
     "status": "completed"
    },
    "tags": []
   },
   "outputs": [],
   "source": [
    "# Vocabulary\n",
    "word2idx = {w : i+1 for i,w in enumerate(words)}\n",
    "tag2idx = {t: i for i,t in enumerate(tags)}"
   ]
  },
  {
   "cell_type": "code",
   "execution_count": 24,
   "metadata": {
    "execution": {
     "iopub.execute_input": "2021-03-07T08:56:35.408361Z",
     "iopub.status.busy": "2021-03-07T08:56:35.407506Z",
     "iopub.status.idle": "2021-03-07T08:56:35.411108Z",
     "shell.execute_reply": "2021-03-07T08:56:35.411580Z"
    },
    "papermill": {
     "duration": 1.046372,
     "end_time": "2021-03-07T08:56:35.411805",
     "exception": false,
     "start_time": "2021-03-07T08:56:34.365433",
     "status": "completed"
    },
    "tags": []
   },
   "outputs": [
    {
     "data": {
      "text/plain": [
       "40"
      ]
     },
     "execution_count": 24,
     "metadata": {},
     "output_type": "execute_result"
    }
   ],
   "source": [
    "import gc\n",
    "gc.collect()"
   ]
  },
  {
   "cell_type": "code",
   "execution_count": 25,
   "metadata": {
    "execution": {
     "iopub.execute_input": "2021-03-07T08:56:35.527767Z",
     "iopub.status.busy": "2021-03-07T08:56:35.512173Z",
     "iopub.status.idle": "2021-03-07T08:56:47.170484Z",
     "shell.execute_reply": "2021-03-07T08:56:47.171009Z"
    },
    "papermill": {
     "duration": 11.72432,
     "end_time": "2021-03-07T08:56:47.171233",
     "exception": false,
     "start_time": "2021-03-07T08:56:35.446913",
     "status": "completed"
    },
    "tags": []
   },
   "outputs": [],
   "source": [
    "from tensorflow.keras.preprocessing.sequence import pad_sequences\n",
    "from tensorflow.keras.utils import to_categorical\n",
    "\n",
    "max_len = CFG.MAX_LEN\n",
    "\n",
    "X = [[word2idx[row[0]] for row in s] for s in sentences]\n",
    "X = pad_sequences(maxlen=max_len, sequences=X, padding='post', value=num_words-1, truncating='post')\n",
    "\n",
    "x_test = [[word2idx[row] for row in s] for s in test_sentences]\n",
    "x_test = pad_sequences(maxlen=max_len, sequences=x_test, padding='post', value=num_words-1, truncating='post')\n",
    "\n",
    "y = [[tag2idx[row[1]] for row in s] for s in sentences]\n",
    "y = pad_sequences(maxlen=max_len, sequences=y, padding='post', value=tag2idx['O'], truncating='post')\n",
    "y = [to_categorical(i, num_classes=num_tags) for i in y]\n"
   ]
  },
  {
   "cell_type": "code",
   "execution_count": 26,
   "metadata": {
    "execution": {
     "iopub.execute_input": "2021-03-07T08:56:47.580037Z",
     "iopub.status.busy": "2021-03-07T08:56:47.579303Z",
     "iopub.status.idle": "2021-03-07T08:56:48.223704Z",
     "shell.execute_reply": "2021-03-07T08:56:48.223080Z"
    },
    "papermill": {
     "duration": 1.017263,
     "end_time": "2021-03-07T08:56:48.223901",
     "exception": false,
     "start_time": "2021-03-07T08:56:47.206638",
     "status": "completed"
    },
    "tags": []
   },
   "outputs": [
    {
     "data": {
      "text/plain": [
       "20"
      ]
     },
     "execution_count": 26,
     "metadata": {},
     "output_type": "execute_result"
    }
   ],
   "source": [
    "del sentences\n",
    "del test_sentences\n",
    "gc.collect()"
   ]
  },
  {
   "cell_type": "code",
   "execution_count": 27,
   "metadata": {
    "execution": {
     "iopub.execute_input": "2021-03-07T08:56:48.325596Z",
     "iopub.status.busy": "2021-03-07T08:56:48.324840Z",
     "iopub.status.idle": "2021-03-07T08:57:00.059245Z",
     "shell.execute_reply": "2021-03-07T08:57:00.057705Z"
    },
    "papermill": {
     "duration": 11.795606,
     "end_time": "2021-03-07T08:57:00.059688",
     "exception": false,
     "start_time": "2021-03-07T08:56:48.264082",
     "status": "completed"
    },
    "tags": []
   },
   "outputs": [],
   "source": [
    "from sklearn.model_selection import train_test_split\n",
    "\n",
    "x_train, x_val, y_train, y_val = train_test_split(X, np.array(y), test_size=0.2, shuffle=True, random_state=42)"
   ]
  },
  {
   "cell_type": "code",
   "execution_count": 28,
   "metadata": {
    "execution": {
     "iopub.execute_input": "2021-03-07T08:57:00.170637Z",
     "iopub.status.busy": "2021-03-07T08:57:00.169214Z",
     "iopub.status.idle": "2021-03-07T08:57:05.413912Z",
     "shell.execute_reply": "2021-03-07T08:57:05.414475Z"
    },
    "papermill": {
     "duration": 5.310881,
     "end_time": "2021-03-07T08:57:05.414690",
     "exception": false,
     "start_time": "2021-03-07T08:57:00.103809",
     "status": "completed"
    },
    "tags": []
   },
   "outputs": [
    {
     "name": "stdout",
     "output_type": "stream",
     "text": [
      "Running on TPU  grpc://10.0.0.2:8470\n",
      "REPLICAS:  8\n"
     ]
    }
   ],
   "source": [
    "# Detect TPU\n",
    "try:\n",
    "    \n",
    "    tpu = tf.distribute.cluster_resolver.TPUClusterResolver()\n",
    "    print('Running on TPU ', tpu.master())\n",
    "except ValueError:\n",
    "    tpu = None\n",
    "\n",
    "if tpu:\n",
    "    tf.config.experimental_connect_to_cluster(tpu)\n",
    "    tf.tpu.experimental.initialize_tpu_system(tpu)\n",
    "    strategy = tf.distribute.experimental.TPUStrategy(tpu)\n",
    "else:\n",
    "   \n",
    "    strategy = tf.distribute.get_strategy()\n",
    "\n",
    "print(\"REPLICAS: \", strategy.num_replicas_in_sync)"
   ]
  },
  {
   "cell_type": "code",
   "execution_count": 29,
   "metadata": {
    "execution": {
     "iopub.execute_input": "2021-03-07T08:57:05.496405Z",
     "iopub.status.busy": "2021-03-07T08:57:05.495676Z",
     "iopub.status.idle": "2021-03-07T08:57:05.497962Z",
     "shell.execute_reply": "2021-03-07T08:57:05.498451Z"
    },
    "papermill": {
     "duration": 0.046326,
     "end_time": "2021-03-07T08:57:05.498657",
     "exception": false,
     "start_time": "2021-03-07T08:57:05.452331",
     "status": "completed"
    },
    "tags": []
   },
   "outputs": [],
   "source": [
    "from keras.optimizers import Nadam"
   ]
  },
  {
   "cell_type": "code",
   "execution_count": 30,
   "metadata": {
    "execution": {
     "iopub.execute_input": "2021-03-07T08:57:05.578280Z",
     "iopub.status.busy": "2021-03-07T08:57:05.577588Z",
     "iopub.status.idle": "2021-03-07T08:57:06.740881Z",
     "shell.execute_reply": "2021-03-07T08:57:06.741948Z"
    },
    "papermill": {
     "duration": 1.205863,
     "end_time": "2021-03-07T08:57:06.742334",
     "exception": false,
     "start_time": "2021-03-07T08:57:05.536471",
     "status": "completed"
    },
    "tags": []
   },
   "outputs": [
    {
     "name": "stdout",
     "output_type": "stream",
     "text": [
      "Model: \"model\"\n",
      "_________________________________________________________________\n",
      "Layer (type)                 Output Shape              Param #   \n",
      "=================================================================\n",
      "input_1 (InputLayer)         [(None, 90)]              0         \n",
      "_________________________________________________________________\n",
      "embedding (Embedding)        (None, 90, 90)            5981940   \n",
      "_________________________________________________________________\n",
      "spatial_dropout1d (SpatialDr (None, 90, 90)            0         \n",
      "_________________________________________________________________\n",
      "bidirectional (Bidirectional (None, 90, 180)           130320    \n",
      "_________________________________________________________________\n",
      "time_distributed (TimeDistri (None, 90, 100)           18100     \n",
      "=================================================================\n",
      "Total params: 6,130,360\n",
      "Trainable params: 6,130,360\n",
      "Non-trainable params: 0\n",
      "_________________________________________________________________\n"
     ]
    }
   ],
   "source": [
    "with strategy.scope():\n",
    "    input_word = Input(shape=(max_len,))\n",
    "    model = Embedding(input_dim=num_words, output_dim=max_len, input_length=max_len)(input_word)\n",
    "\n",
    "    model = SpatialDropout1D(0.1)(model)\n",
    "    model = Bidirectional(LSTM(units=max_len, return_sequences=True, recurrent_dropout=0.1))(model)\n",
    "\n",
    "    out = TimeDistributed(Dense(num_tags, activation='softmax'))(model)\n",
    "\n",
    "    model = Model(input_word, out)\n",
    "    model.compile(optimizer=Nadam(), loss='categorical_crossentropy', metrics='accuracy')\n",
    "model.summary()\n",
    "\n"
   ]
  },
  {
   "cell_type": "code",
   "execution_count": 31,
   "metadata": {
    "execution": {
     "iopub.execute_input": "2021-03-07T08:57:06.826831Z",
     "iopub.status.busy": "2021-03-07T08:57:06.826081Z",
     "iopub.status.idle": "2021-03-07T08:57:06.831832Z",
     "shell.execute_reply": "2021-03-07T08:57:06.832342Z"
    },
    "papermill": {
     "duration": 0.049165,
     "end_time": "2021-03-07T08:57:06.832543",
     "exception": false,
     "start_time": "2021-03-07T08:57:06.783378",
     "status": "completed"
    },
    "tags": []
   },
   "outputs": [],
   "source": [
    "from tensorflow.keras.callbacks import EarlyStopping\n",
    "early_stopping = EarlyStopping(monitor='val_accuracy', patience=3, verbose=0, mode='max', restore_best_weights=False)"
   ]
  },
  {
   "cell_type": "code",
   "execution_count": 32,
   "metadata": {
    "execution": {
     "iopub.execute_input": "2021-03-07T08:57:06.912354Z",
     "iopub.status.busy": "2021-03-07T08:57:06.911575Z",
     "iopub.status.idle": "2021-03-07T09:02:52.178142Z",
     "shell.execute_reply": "2021-03-07T09:02:52.178684Z"
    },
    "papermill": {
     "duration": 345.308745,
     "end_time": "2021-03-07T09:02:52.178988",
     "exception": false,
     "start_time": "2021-03-07T08:57:06.870243",
     "status": "completed"
    },
    "tags": []
   },
   "outputs": [
    {
     "name": "stdout",
     "output_type": "stream",
     "text": [
      "Epoch 1/5\n",
      "2500/2500 [==============================] - 79s 28ms/step - loss: 0.3179 - accuracy: 0.9548 - val_loss: 0.0310 - val_accuracy: 0.9913\n",
      "Epoch 2/5\n",
      "2500/2500 [==============================] - 64s 26ms/step - loss: 0.0249 - accuracy: 0.9928 - val_loss: 0.0165 - val_accuracy: 0.9951\n",
      "Epoch 3/5\n",
      "2500/2500 [==============================] - 64s 26ms/step - loss: 0.0126 - accuracy: 0.9963 - val_loss: 0.0122 - val_accuracy: 0.9964\n",
      "Epoch 4/5\n",
      "2500/2500 [==============================] - 64s 25ms/step - loss: 0.0076 - accuracy: 0.9978 - val_loss: 0.0089 - val_accuracy: 0.9975\n",
      "Epoch 5/5\n",
      "2500/2500 [==============================] - 63s 25ms/step - loss: 0.0052 - accuracy: 0.9985 - val_loss: 0.0083 - val_accuracy: 0.9977\n"
     ]
    }
   ],
   "source": [
    "callbacks=[early_stopping]\n",
    "\n",
    "history = model.fit(x_train[:x_train.shape[0]//2], y_train[:y_train.shape[0]//2],\n",
    "                    validation_data=(x_val, y_val), \n",
    "                    batch_size=CFG.BATCH_SIZE,\n",
    "                    epochs=CFG.EPOCHS,\n",
    "                    verbose=1,\n",
    "                    callbacks=callbacks,\n",
    "#                     steps_per_epoch = X.shape[0] // 16\n",
    "                   )"
   ]
  },
  {
   "cell_type": "code",
   "execution_count": 33,
   "metadata": {
    "execution": {
     "iopub.execute_input": "2021-03-07T09:02:54.804507Z",
     "iopub.status.busy": "2021-03-07T09:02:54.803847Z",
     "iopub.status.idle": "2021-03-07T09:08:32.387318Z",
     "shell.execute_reply": "2021-03-07T09:08:32.387841Z"
    },
    "papermill": {
     "duration": 338.89002,
     "end_time": "2021-03-07T09:08:32.388096",
     "exception": false,
     "start_time": "2021-03-07T09:02:53.498076",
     "status": "completed"
    },
    "tags": []
   },
   "outputs": [
    {
     "name": "stdout",
     "output_type": "stream",
     "text": [
      "Epoch 1/5\n",
      "2500/2500 [==============================] - 68s 27ms/step - loss: 0.0074 - accuracy: 0.9979 - val_loss: 0.0060 - val_accuracy: 0.9983\n",
      "Epoch 2/5\n",
      "2500/2500 [==============================] - 66s 26ms/step - loss: 0.0044 - accuracy: 0.9988 - val_loss: 0.0052 - val_accuracy: 0.9986\n",
      "Epoch 3/5\n",
      "2500/2500 [==============================] - 65s 26ms/step - loss: 0.0029 - accuracy: 0.9992 - val_loss: 0.0049 - val_accuracy: 0.9986\n",
      "Epoch 4/5\n",
      "2500/2500 [==============================] - 66s 26ms/step - loss: 0.0021 - accuracy: 0.9994 - val_loss: 0.0052 - val_accuracy: 0.9986\n",
      "Epoch 5/5\n",
      "2500/2500 [==============================] - 65s 26ms/step - loss: 0.0016 - accuracy: 0.9996 - val_loss: 0.0049 - val_accuracy: 0.9987\n"
     ]
    }
   ],
   "source": [
    "history = model.fit(x_train[x_train.shape[0]//2 : ], y_train[y_train.shape[0]//2 : ],\n",
    "                    validation_data=(x_val, y_val), \n",
    "                    batch_size=CFG.BATCH_SIZE,\n",
    "                    epochs=CFG.EPOCHS,\n",
    "                    verbose=1,\n",
    "                    callbacks=callbacks,\n",
    "#                     steps_per_epoch = X.shape[0] // 16\n",
    "                   )"
   ]
  },
  {
   "cell_type": "code",
   "execution_count": 34,
   "metadata": {
    "execution": {
     "iopub.execute_input": "2021-03-07T09:08:37.713970Z",
     "iopub.status.busy": "2021-03-07T09:08:37.712885Z",
     "iopub.status.idle": "2021-03-07T09:08:38.278140Z",
     "shell.execute_reply": "2021-03-07T09:08:38.277517Z"
    },
    "papermill": {
     "duration": 3.272165,
     "end_time": "2021-03-07T09:08:38.278313",
     "exception": false,
     "start_time": "2021-03-07T09:08:35.006148",
     "status": "completed"
    },
    "tags": []
   },
   "outputs": [],
   "source": [
    "model.save('BILSTM_model_23.h5')"
   ]
  },
  {
   "cell_type": "markdown",
   "metadata": {
    "papermill": {
     "duration": 2.768634,
     "end_time": "2021-03-07T09:08:43.680792",
     "exception": false,
     "start_time": "2021-03-07T09:08:40.912158",
     "status": "completed"
    },
    "tags": []
   },
   "source": [
    "# Inference on a random sample from test_output"
   ]
  },
  {
   "cell_type": "code",
   "execution_count": 35,
   "metadata": {
    "execution": {
     "iopub.execute_input": "2021-03-07T09:08:49.069765Z",
     "iopub.status.busy": "2021-03-07T09:08:49.062173Z",
     "iopub.status.idle": "2021-03-07T09:08:50.949507Z",
     "shell.execute_reply": "2021-03-07T09:08:50.950657Z"
    },
    "papermill": {
     "duration": 4.583172,
     "end_time": "2021-03-07T09:08:50.950960",
     "exception": false,
     "start_time": "2021-03-07T09:08:46.367788",
     "status": "completed"
    },
    "tags": []
   },
   "outputs": [
    {
     "name": "stdout",
     "output_type": "stream",
     "text": [
      "Word           Pred\tTrue\n",
      "\n",
      "------------------------------\n",
      "revin          O\tB_BRAND\t\n",
      "lite           O\tB_COLOR\t\n",
      "green          B_color\tI_COLOR\t\n",
      "button         B_closure\tO\t\n",
      "model          O\tO\t\n",
      "multi          O\tB_COLOR\t\n",
      "colour         O\tI_COLOR\t\n",
      "tshirt         O\tO\t\n",
      ".              O\tO\t\n",
      "it             O\tO\t\n",
      "comes          O\tO\t\n",
      "with           O\tO\t\n",
      "m              B_size\tB_SIZE\t\n",
      "size           O\tO\t\n",
      "and            O\tO\t\n",
      "can            O\tO\t\n",
      "be             O\tO\t\n",
      "weared         O\tO\t\n",
      "for            O\tO\t\n",
      "all            O\tO\t\n",
      "type           O\tO\t\n",
      "of             O\tO\t\n",
      "occassions     O\tO\t\n",
      ".              O\tO\t\n"
     ]
    }
   ],
   "source": [
    "i = np.random.randint(0, test_output.shape[0])\n",
    "idx = test_output['Id'][i]\n",
    "\n",
    "ii = test[test['Id']==idx].index\n",
    "\n",
    "p = model.predict(np.array([x_test[ii[0]]]))\n",
    "\n",
    "p = np.argmax(p, axis=-1)\n",
    "\n",
    "y_true = ast.literal_eval(test_output['Tags'][i])\n",
    "\n",
    "\n",
    "print(\"{:15}{}\\t{}\\n\".format('Word', 'Pred', 'True'))\n",
    "print(\"-\"*30)\n",
    "\n",
    "for(w, pred, t) in zip(x_test[ii[0]], p[0], y_true):\n",
    "    print(\"{:15}{}\\t{}\\t\".format(words[w-1], tags[pred], t))"
   ]
  },
  {
   "cell_type": "markdown",
   "metadata": {
    "papermill": {
     "duration": 2.699972,
     "end_time": "2021-03-07T09:08:56.406060",
     "exception": false,
     "start_time": "2021-03-07T09:08:53.706088",
     "status": "completed"
    },
    "tags": []
   },
   "source": [
    "## Scores on test_output"
   ]
  },
  {
   "cell_type": "code",
   "execution_count": 36,
   "metadata": {
    "execution": {
     "iopub.execute_input": "2021-03-07T09:09:01.678434Z",
     "iopub.status.busy": "2021-03-07T09:09:01.677699Z",
     "iopub.status.idle": "2021-03-07T09:09:54.096390Z",
     "shell.execute_reply": "2021-03-07T09:09:54.094700Z"
    },
    "papermill": {
     "duration": 55.088441,
     "end_time": "2021-03-07T09:09:54.096556",
     "exception": false,
     "start_time": "2021-03-07T09:08:59.008115",
     "status": "completed"
    },
    "tags": []
   },
   "outputs": [
    {
     "data": {
      "application/vnd.jupyter.widget-view+json": {
       "model_id": "18a983e673a84a02854268bdf1ee2847",
       "version_major": 2,
       "version_minor": 0
      },
      "text/plain": [
       "  0%|          | 0/112 [00:00<?, ?it/s]"
      ]
     },
     "metadata": {},
     "output_type": "display_data"
    },
    {
     "data": {
      "application/vnd.jupyter.widget-view+json": {
       "model_id": "d89553be7fb243e695f0ed820c3a0e49",
       "version_major": 2,
       "version_minor": 0
      },
      "text/plain": [
       "  0%|          | 0/112 [00:00<?, ?it/s]"
      ]
     },
     "metadata": {},
     "output_type": "display_data"
    }
   ],
   "source": [
    "test_preds = []\n",
    "test_trues = []\n",
    "\n",
    "for i in tqdm(range(test_output.shape[0])):\n",
    "    idx = test_output['Id'][i]\n",
    "\n",
    "    ii = test[test['Id']==idx].index\n",
    "#     print(ii[0])\n",
    "\n",
    "    p = model.predict(np.array([x_test[ii[0]]]))\n",
    "    p = np.argmax(p, axis=-1)\n",
    "    \n",
    "    pp = []\n",
    "    for p_ in p[0]:\n",
    "        pp.append(tags[p_])\n",
    "    true = ast.literal_eval(test_output['Tags'][i])\n",
    "    \n",
    "    \n",
    "    test_preds.append(pp)\n",
    "    test_trues.append(true)\n",
    "    \n",
    "test_preds_new = []\n",
    "i = 0\n",
    "for p in tqdm(test_preds):\n",
    "    lst = [x.upper() for x in p]\n",
    "    l = []\n",
    "    cnt = 0\n",
    "    for x in lst:\n",
    "        if(cnt >= len(ast.literal_eval(test_output['Words'][i]))):\n",
    "            break\n",
    "        l.append(x)\n",
    "        cnt+=1\n",
    "    length = len(l)\n",
    "    if(length < len(ast.literal_eval(test_output['Words'][i]))):\n",
    "        l += ['O'] * (len(ast.literal_eval(test_output['Words'][i]))-length)\n",
    "    i += 1\n",
    "    test_preds_new.append(l)\n"
   ]
  },
  {
   "cell_type": "code",
   "execution_count": 37,
   "metadata": {
    "execution": {
     "iopub.execute_input": "2021-03-07T09:09:59.457874Z",
     "iopub.status.busy": "2021-03-07T09:09:59.368574Z",
     "iopub.status.idle": "2021-03-07T09:10:12.728429Z",
     "shell.execute_reply": "2021-03-07T09:10:12.727724Z"
    },
    "papermill": {
     "duration": 15.97078,
     "end_time": "2021-03-07T09:10:12.728615",
     "exception": false,
     "start_time": "2021-03-07T09:09:56.757835",
     "status": "completed"
    },
    "tags": []
   },
   "outputs": [
    {
     "name": "stdout",
     "output_type": "stream",
     "text": [
      "Collecting seqeval\r\n",
      "  Downloading seqeval-1.2.2.tar.gz (43 kB)\r\n",
      "\u001b[K     |████████████████████████████████| 43 kB 494 kB/s \r\n",
      "\u001b[?25hRequirement already satisfied: numpy>=1.14.0 in /opt/conda/lib/python3.7/site-packages (from seqeval) (1.19.5)\r\n",
      "Requirement already satisfied: scikit-learn>=0.21.3 in /opt/conda/lib/python3.7/site-packages (from seqeval) (0.24.1)\r\n",
      "Requirement already satisfied: scipy>=0.19.1 in /opt/conda/lib/python3.7/site-packages (from scikit-learn>=0.21.3->seqeval) (1.5.4)\r\n",
      "Requirement already satisfied: threadpoolctl>=2.0.0 in /opt/conda/lib/python3.7/site-packages (from scikit-learn>=0.21.3->seqeval) (2.1.0)\r\n",
      "Requirement already satisfied: joblib>=0.11 in /opt/conda/lib/python3.7/site-packages (from scikit-learn>=0.21.3->seqeval) (1.0.0)\r\n",
      "Building wheels for collected packages: seqeval\r\n",
      "  Building wheel for seqeval (setup.py) ... \u001b[?25l-\b \b\\\b \bdone\r\n",
      "\u001b[?25h  Created wheel for seqeval: filename=seqeval-1.2.2-py3-none-any.whl size=16170 sha256=0b2102f0a216c50e1cf4a1dce711c6dcd2d5d1291501878eb832ebbe80cc9190\r\n",
      "  Stored in directory: /root/.cache/pip/wheels/05/96/ee/7cac4e74f3b19e3158dce26a20a1c86b3533c43ec72a549fd7\r\n",
      "Successfully built seqeval\r\n",
      "Installing collected packages: seqeval\r\n",
      "Successfully installed seqeval-1.2.2\r\n"
     ]
    }
   ],
   "source": [
    "!pip install seqeval"
   ]
  },
  {
   "cell_type": "code",
   "execution_count": 38,
   "metadata": {
    "execution": {
     "iopub.execute_input": "2021-03-07T09:10:18.023975Z",
     "iopub.status.busy": "2021-03-07T09:10:18.023215Z",
     "iopub.status.idle": "2021-03-07T09:10:18.202653Z",
     "shell.execute_reply": "2021-03-07T09:10:18.201987Z"
    },
    "papermill": {
     "duration": 2.85638,
     "end_time": "2021-03-07T09:10:18.202861",
     "exception": false,
     "start_time": "2021-03-07T09:10:15.346481",
     "status": "completed"
    },
    "tags": []
   },
   "outputs": [
    {
     "name": "stdout",
     "output_type": "stream",
     "text": [
      "                              precision    recall  f1-score   support\n",
      "\n",
      "                      _BRAND       0.47      0.12      0.19        58\n",
      "                    _CLOSURE       0.06      0.17      0.09         6\n",
      "                     _COLLAR       0.88      0.59      0.71        49\n",
      "                      _COLOR       0.75      0.75      0.75        64\n",
      "                _COLOR_SHADE       0.00      0.00      0.00         0\n",
      "                 _DIAL_COLOR       1.00      1.00      1.00         2\n",
      "  _DRESS_TOPWEAR_LENGTH_TYPE       0.00      0.00      0.00         1\n",
      "                     _FABRIC       0.82      0.21      0.33        68\n",
      "                _FABRIC_CARE       0.50      0.12      0.20        33\n",
      "              _FABRIC_PURITY       0.00      0.00      0.00         0\n",
      "                        _FIT       0.19      0.45      0.27        11\n",
      " _FOOTWEAR_PATTERN_PLACEMENT       0.00      0.00      0.00         0\n",
      "                _GOWN_DESIGN       0.00      0.00      0.00         0\n",
      "            _GOWN_WEAVE_TYPE       0.00      0.00      0.00         0\n",
      "                        _HEM       0.00      0.00      0.00         0\n",
      "                  _IDEAL_FOR       0.90      0.76      0.83        25\n",
      "             _INNER_MATERIAL       0.00      0.00      0.00         0\n",
      "                 _JEAN_FADED       0.00      0.00      0.00         1\n",
      "           _JEAN_POCKET_TYPE       0.00      0.00      0.00         0\n",
      "_JEWELLERY_SET_BASE_MATERIAL       0.00      0.00      0.00         3\n",
      "     _JEWELLERY_SET_GEMSTONE       0.00      0.00      0.00        13\n",
      "  _JEWELLERY_SET_PEARL_COLOR       0.00      0.00      0.00         1\n",
      "                   _MATERIAL       0.00      0.00      0.00         0\n",
      "                   _OCCASION       0.96      0.58      0.72        43\n",
      "         _ORNAMENTATION_TYPE       0.00      0.00      0.00         1\n",
      "             _OUTER_MATERIAL       0.00      0.00      0.00         4\n",
      "                    _PATTERN       0.62      0.45      0.52        62\n",
      "                       _RISE       0.00      0.00      0.00         0\n",
      "                      _SHAPE       0.00      0.00      0.00         1\n",
      "           _SHOE_COLOR_SHADE       0.00      0.00      0.00         0\n",
      "             _SHOE_TIP_SHAPE       0.00      0.00      0.00         0\n",
      "                       _SIZE       0.07      0.50      0.12         2\n",
      "         _SLEEVE_LENGTH_TYPE       0.00      0.00      0.00        24\n",
      "               _SLEEVE_STYLE       0.71      0.38      0.50        13\n",
      "              _SOLE_MATERIAL       0.25      0.50      0.33         4\n",
      "             _STRAP_MATERIAL       0.50      0.11      0.18         9\n",
      "               _SUITABLE_FOR       0.00      0.00      0.00         4\n",
      "        _TOPWEAR_LENGTH_TYPE       0.00      0.00      0.00         0\n",
      "             _TROUSER_PLEATS       0.00      0.00      0.00         1\n",
      "  _WATCH_CASE_BEZEL_MATERIAL       0.00      0.00      0.00         5\n",
      "           _WATCH_DIAL_SHAPE       1.00      1.00      1.00         1\n",
      "         _WATCH_STRAP_DESIGN       0.00      0.00      0.00         0\n",
      "\n",
      "                   micro avg       0.50      0.38      0.43       509\n",
      "                   macro avg       0.23      0.18      0.18       509\n",
      "                weighted avg       0.62      0.38      0.44       509\n",
      "\n"
     ]
    }
   ],
   "source": [
    "import seqeval\n",
    "from seqeval.metrics import precision_score, recall_score, f1_score, classification_report\n",
    "\n",
    "\n",
    "print(classification_report(test_trues, test_preds_new[:len(test_trues)]))"
   ]
  },
  {
   "cell_type": "code",
   "execution_count": 39,
   "metadata": {
    "execution": {
     "iopub.execute_input": "2021-03-07T09:10:23.585582Z",
     "iopub.status.busy": "2021-03-07T09:10:23.580440Z",
     "iopub.status.idle": "2021-03-07T11:49:58.468253Z",
     "shell.execute_reply": "2021-03-07T11:49:58.466565Z"
    },
    "papermill": {
     "duration": 9577.599771,
     "end_time": "2021-03-07T11:49:58.468434",
     "exception": false,
     "start_time": "2021-03-07T09:10:20.868663",
     "status": "completed"
    },
    "tags": []
   },
   "outputs": [
    {
     "data": {
      "application/vnd.jupyter.widget-view+json": {
       "model_id": "9f1807928b194fc58bc6b3329cfd5b68",
       "version_major": 2,
       "version_minor": 0
      },
      "text/plain": [
       "  0%|          | 0/22421 [00:00<?, ?it/s]"
      ]
     },
     "metadata": {},
     "output_type": "display_data"
    },
    {
     "data": {
      "application/vnd.jupyter.widget-view+json": {
       "model_id": "8e6d8f20168745ec9f6576cb01a7e76a",
       "version_major": 2,
       "version_minor": 0
      },
      "text/plain": [
       "  0%|          | 0/22421 [00:00<?, ?it/s]"
      ]
     },
     "metadata": {},
     "output_type": "display_data"
    }
   ],
   "source": [
    "preds = []\n",
    "\n",
    "for i in tqdm(range(x_test.shape[0])):\n",
    "    p = model.predict(np.array([x_test[i]]))\n",
    "    p = np.argmax(p, axis=-1)\n",
    "    \n",
    "    lst = [tags[x] for x in p[0]]\n",
    "    preds.append(lst)\n",
    "    \n",
    "    \n",
    "    \n",
    "\n",
    "preds_new = []\n",
    "i = 0\n",
    "for p in tqdm(preds):\n",
    "    lst = [x.upper() for x in p]\n",
    "    l = []\n",
    "    cnt = 0\n",
    "    for x in lst:\n",
    "        if(cnt >= len(ast.literal_eval(test['Words'][i]))):\n",
    "            break\n",
    "        l.append(x)\n",
    "        cnt+=1\n",
    "    length = len(l)\n",
    "    if(length < len(ast.literal_eval(test['Words'][i]))):\n",
    "        l += ['O'] * (len(ast.literal_eval(test['Words'][i]))-length)\n",
    "    i += 1\n",
    "    preds_new.append(l)"
   ]
  },
  {
   "cell_type": "code",
   "execution_count": 40,
   "metadata": {
    "execution": {
     "iopub.execute_input": "2021-03-07T11:50:03.786150Z",
     "iopub.status.busy": "2021-03-07T11:50:03.785443Z",
     "iopub.status.idle": "2021-03-07T11:50:04.731986Z",
     "shell.execute_reply": "2021-03-07T11:50:04.731328Z"
    },
    "papermill": {
     "duration": 3.631049,
     "end_time": "2021-03-07T11:50:04.732142",
     "exception": false,
     "start_time": "2021-03-07T11:50:01.101093",
     "status": "completed"
    },
    "tags": []
   },
   "outputs": [
    {
     "data": {
      "text/html": [
       "<div>\n",
       "<style scoped>\n",
       "    .dataframe tbody tr th:only-of-type {\n",
       "        vertical-align: middle;\n",
       "    }\n",
       "\n",
       "    .dataframe tbody tr th {\n",
       "        vertical-align: top;\n",
       "    }\n",
       "\n",
       "    .dataframe thead th {\n",
       "        text-align: right;\n",
       "    }\n",
       "</style>\n",
       "<table border=\"1\" class=\"dataframe\">\n",
       "  <thead>\n",
       "    <tr style=\"text-align: right;\">\n",
       "      <th></th>\n",
       "      <th>Unnamed: 0</th>\n",
       "      <th>Id</th>\n",
       "      <th>Words</th>\n",
       "      <th>Category</th>\n",
       "      <th>Tags</th>\n",
       "    </tr>\n",
       "  </thead>\n",
       "  <tbody>\n",
       "    <tr>\n",
       "      <th>0</th>\n",
       "      <td>0</td>\n",
       "      <td>0cbabaee2-759e-11eb-8e68-02010a3042d3</td>\n",
       "      <td>['Own', 'a', 'unique', 'piece', 'from', 'the',...</td>\n",
       "      <td>Top Wear</td>\n",
       "      <td>[O, O, O, O, O, O, O, O, O, O, O, O, O, O, O, ...</td>\n",
       "    </tr>\n",
       "    <tr>\n",
       "      <th>1</th>\n",
       "      <td>1</td>\n",
       "      <td>1cbabb108-759e-11eb-8e68-02010a3042d3</td>\n",
       "      <td>['White', 'T', 'shirt', ',', 'has', 'a', 'V', ...</td>\n",
       "      <td>Top Wear</td>\n",
       "      <td>[B_COLOR, O, O, O, O, O, B_COLLAR, I_COLLAR, O...</td>\n",
       "    </tr>\n",
       "    <tr>\n",
       "      <th>2</th>\n",
       "      <td>2</td>\n",
       "      <td>2cbabb1bc-759e-11eb-8e68-02010a3042d3</td>\n",
       "      <td>['Cotton', 'Printed', '3', 'Pcs', 'Assorted', ...</td>\n",
       "      <td>Top Wear</td>\n",
       "      <td>[O, B_PATTERN, O, O, O, O, O, B_COLLAR, I_COLL...</td>\n",
       "    </tr>\n",
       "    <tr>\n",
       "      <th>3</th>\n",
       "      <td>3</td>\n",
       "      <td>3cbabb252-759e-11eb-8e68-02010a3042d3</td>\n",
       "      <td>['Designed', 'in', 'an', 'appealing', 'shade',...</td>\n",
       "      <td>Top Wear</td>\n",
       "      <td>[O, O, O, O, O, O, O, O, O, O, O, O, O, O, O, ...</td>\n",
       "    </tr>\n",
       "    <tr>\n",
       "      <th>4</th>\n",
       "      <td>4</td>\n",
       "      <td>4cbabb2de-759e-11eb-8e68-02010a3042d3</td>\n",
       "      <td>['Symbols', 'of', 'luck', ',', 'intelligence',...</td>\n",
       "      <td>Top Wear</td>\n",
       "      <td>[O, O, O, O, O, O, O, O, O, O, O, O, O, O, O, ...</td>\n",
       "    </tr>\n",
       "  </tbody>\n",
       "</table>\n",
       "</div>"
      ],
      "text/plain": [
       "   Unnamed: 0                                     Id  \\\n",
       "0           0  0cbabaee2-759e-11eb-8e68-02010a3042d3   \n",
       "1           1  1cbabb108-759e-11eb-8e68-02010a3042d3   \n",
       "2           2  2cbabb1bc-759e-11eb-8e68-02010a3042d3   \n",
       "3           3  3cbabb252-759e-11eb-8e68-02010a3042d3   \n",
       "4           4  4cbabb2de-759e-11eb-8e68-02010a3042d3   \n",
       "\n",
       "                                               Words  Category  \\\n",
       "0  ['Own', 'a', 'unique', 'piece', 'from', 'the',...  Top Wear   \n",
       "1  ['White', 'T', 'shirt', ',', 'has', 'a', 'V', ...  Top Wear   \n",
       "2  ['Cotton', 'Printed', '3', 'Pcs', 'Assorted', ...  Top Wear   \n",
       "3  ['Designed', 'in', 'an', 'appealing', 'shade',...  Top Wear   \n",
       "4  ['Symbols', 'of', 'luck', ',', 'intelligence',...  Top Wear   \n",
       "\n",
       "                                                Tags  \n",
       "0  [O, O, O, O, O, O, O, O, O, O, O, O, O, O, O, ...  \n",
       "1  [B_COLOR, O, O, O, O, O, B_COLLAR, I_COLLAR, O...  \n",
       "2  [O, B_PATTERN, O, O, O, O, O, B_COLLAR, I_COLL...  \n",
       "3  [O, O, O, O, O, O, O, O, O, O, O, O, O, O, O, ...  \n",
       "4  [O, O, O, O, O, O, O, O, O, O, O, O, O, O, O, ...  "
      ]
     },
     "execution_count": 40,
     "metadata": {},
     "output_type": "execute_result"
    }
   ],
   "source": [
    "test['Tags'] = preds_new\n",
    "test.to_csv('Submission.csv', index='False')\n",
    "test.head()"
   ]
  }
 ],
 "metadata": {
  "kernelspec": {
   "display_name": "Python 3",
   "language": "python",
   "name": "python3"
  },
  "language_info": {
   "codemirror_mode": {
    "name": "ipython",
    "version": 3
   },
   "file_extension": ".py",
   "mimetype": "text/x-python",
   "name": "python",
   "nbconvert_exporter": "python",
   "pygments_lexer": "ipython3",
   "version": "3.7.9"
  },
  "papermill": {
   "default_parameters": {},
   "duration": 10876.028137,
   "end_time": "2021-03-07T11:50:12.066080",
   "environment_variables": {},
   "exception": null,
   "input_path": "__notebook__.ipynb",
   "output_path": "__notebook__.ipynb",
   "parameters": {},
   "start_time": "2021-03-07T08:48:56.037943",
   "version": "2.2.2"
  },
  "widgets": {
   "application/vnd.jupyter.widget-state+json": {
    "state": {
     "002af19a4da547608d59b4a223ba8ae2": {
      "model_module": "@jupyter-widgets/controls",
      "model_module_version": "1.5.0",
      "model_name": "HTMLModel",
      "state": {
       "_dom_classes": [],
       "_model_module": "@jupyter-widgets/controls",
       "_model_module_version": "1.5.0",
       "_model_name": "HTMLModel",
       "_view_count": null,
       "_view_module": "@jupyter-widgets/controls",
       "_view_module_version": "1.5.0",
       "_view_name": "HTMLView",
       "description": "",
       "description_tooltip": null,
       "layout": "IPY_MODEL_e097982051014350b8eb28630fd262ab",
       "placeholder": "​",
       "style": "IPY_MODEL_2916c7b816a8484d9d32df08a635aca2",
       "value": "100%"
      }
     },
     "0163f37b1f56433da5e4fb9dd0465f83": {
      "model_module": "@jupyter-widgets/base",
      "model_module_version": "1.2.0",
      "model_name": "LayoutModel",
      "state": {
       "_model_module": "@jupyter-widgets/base",
       "_model_module_version": "1.2.0",
       "_model_name": "LayoutModel",
       "_view_count": null,
       "_view_module": "@jupyter-widgets/base",
       "_view_module_version": "1.2.0",
       "_view_name": "LayoutView",
       "align_content": null,
       "align_items": null,
       "align_self": null,
       "border": null,
       "bottom": null,
       "display": null,
       "flex": null,
       "flex_flow": null,
       "grid_area": null,
       "grid_auto_columns": null,
       "grid_auto_flow": null,
       "grid_auto_rows": null,
       "grid_column": null,
       "grid_gap": null,
       "grid_row": null,
       "grid_template_areas": null,
       "grid_template_columns": null,
       "grid_template_rows": null,
       "height": null,
       "justify_content": null,
       "justify_items": null,
       "left": null,
       "margin": null,
       "max_height": null,
       "max_width": null,
       "min_height": null,
       "min_width": null,
       "object_fit": null,
       "object_position": null,
       "order": null,
       "overflow": null,
       "overflow_x": null,
       "overflow_y": null,
       "padding": null,
       "right": null,
       "top": null,
       "visibility": null,
       "width": null
      }
     },
     "08f3c21a6b7a4d059102657df541aa2e": {
      "model_module": "@jupyter-widgets/base",
      "model_module_version": "1.2.0",
      "model_name": "LayoutModel",
      "state": {
       "_model_module": "@jupyter-widgets/base",
       "_model_module_version": "1.2.0",
       "_model_name": "LayoutModel",
       "_view_count": null,
       "_view_module": "@jupyter-widgets/base",
       "_view_module_version": "1.2.0",
       "_view_name": "LayoutView",
       "align_content": null,
       "align_items": null,
       "align_self": null,
       "border": null,
       "bottom": null,
       "display": null,
       "flex": null,
       "flex_flow": null,
       "grid_area": null,
       "grid_auto_columns": null,
       "grid_auto_flow": null,
       "grid_auto_rows": null,
       "grid_column": null,
       "grid_gap": null,
       "grid_row": null,
       "grid_template_areas": null,
       "grid_template_columns": null,
       "grid_template_rows": null,
       "height": null,
       "justify_content": null,
       "justify_items": null,
       "left": null,
       "margin": null,
       "max_height": null,
       "max_width": null,
       "min_height": null,
       "min_width": null,
       "object_fit": null,
       "object_position": null,
       "order": null,
       "overflow": null,
       "overflow_x": null,
       "overflow_y": null,
       "padding": null,
       "right": null,
       "top": null,
       "visibility": null,
       "width": null
      }
     },
     "0ef5864b278744018d304a1e8699c2ff": {
      "model_module": "@jupyter-widgets/base",
      "model_module_version": "1.2.0",
      "model_name": "LayoutModel",
      "state": {
       "_model_module": "@jupyter-widgets/base",
       "_model_module_version": "1.2.0",
       "_model_name": "LayoutModel",
       "_view_count": null,
       "_view_module": "@jupyter-widgets/base",
       "_view_module_version": "1.2.0",
       "_view_name": "LayoutView",
       "align_content": null,
       "align_items": null,
       "align_self": null,
       "border": null,
       "bottom": null,
       "display": null,
       "flex": null,
       "flex_flow": null,
       "grid_area": null,
       "grid_auto_columns": null,
       "grid_auto_flow": null,
       "grid_auto_rows": null,
       "grid_column": null,
       "grid_gap": null,
       "grid_row": null,
       "grid_template_areas": null,
       "grid_template_columns": null,
       "grid_template_rows": null,
       "height": null,
       "justify_content": null,
       "justify_items": null,
       "left": null,
       "margin": null,
       "max_height": null,
       "max_width": null,
       "min_height": null,
       "min_width": null,
       "object_fit": null,
       "object_position": null,
       "order": null,
       "overflow": null,
       "overflow_x": null,
       "overflow_y": null,
       "padding": null,
       "right": null,
       "top": null,
       "visibility": null,
       "width": null
      }
     },
     "15a683d784bf4904a49fdf1a11c78b8c": {
      "model_module": "@jupyter-widgets/controls",
      "model_module_version": "1.5.0",
      "model_name": "ProgressStyleModel",
      "state": {
       "_model_module": "@jupyter-widgets/controls",
       "_model_module_version": "1.5.0",
       "_model_name": "ProgressStyleModel",
       "_view_count": null,
       "_view_module": "@jupyter-widgets/base",
       "_view_module_version": "1.2.0",
       "_view_name": "StyleView",
       "bar_color": null,
       "description_width": ""
      }
     },
     "170c9cb9f77c4c7e99eba58fb4304807": {
      "model_module": "@jupyter-widgets/controls",
      "model_module_version": "1.5.0",
      "model_name": "HTMLModel",
      "state": {
       "_dom_classes": [],
       "_model_module": "@jupyter-widgets/controls",
       "_model_module_version": "1.5.0",
       "_model_name": "HTMLModel",
       "_view_count": null,
       "_view_module": "@jupyter-widgets/controls",
       "_view_module_version": "1.5.0",
       "_view_name": "HTMLView",
       "description": "",
       "description_tooltip": null,
       "layout": "IPY_MODEL_3bf2e46690f347e2bd097921bc9471a3",
       "placeholder": "​",
       "style": "IPY_MODEL_5db7c71233004358af13cd29d6f911a9",
       "value": "100%"
      }
     },
     "18a983e673a84a02854268bdf1ee2847": {
      "model_module": "@jupyter-widgets/controls",
      "model_module_version": "1.5.0",
      "model_name": "HBoxModel",
      "state": {
       "_dom_classes": [],
       "_model_module": "@jupyter-widgets/controls",
       "_model_module_version": "1.5.0",
       "_model_name": "HBoxModel",
       "_view_count": null,
       "_view_module": "@jupyter-widgets/controls",
       "_view_module_version": "1.5.0",
       "_view_name": "HBoxView",
       "box_style": "",
       "children": [
        "IPY_MODEL_8f31971b25b14c7c8047c7b280c041f2",
        "IPY_MODEL_ea3f934b031e49b793b64b7d2fc3ee62",
        "IPY_MODEL_d1f0ebd5c669429795a606767c49bfc2"
       ],
       "layout": "IPY_MODEL_2dd3cfffddfb494b9badf3c9f718d839"
      }
     },
     "2764d578221e40beaeec24724da9e47b": {
      "model_module": "@jupyter-widgets/base",
      "model_module_version": "1.2.0",
      "model_name": "LayoutModel",
      "state": {
       "_model_module": "@jupyter-widgets/base",
       "_model_module_version": "1.2.0",
       "_model_name": "LayoutModel",
       "_view_count": null,
       "_view_module": "@jupyter-widgets/base",
       "_view_module_version": "1.2.0",
       "_view_name": "LayoutView",
       "align_content": null,
       "align_items": null,
       "align_self": null,
       "border": null,
       "bottom": null,
       "display": null,
       "flex": null,
       "flex_flow": null,
       "grid_area": null,
       "grid_auto_columns": null,
       "grid_auto_flow": null,
       "grid_auto_rows": null,
       "grid_column": null,
       "grid_gap": null,
       "grid_row": null,
       "grid_template_areas": null,
       "grid_template_columns": null,
       "grid_template_rows": null,
       "height": null,
       "justify_content": null,
       "justify_items": null,
       "left": null,
       "margin": null,
       "max_height": null,
       "max_width": null,
       "min_height": null,
       "min_width": null,
       "object_fit": null,
       "object_position": null,
       "order": null,
       "overflow": null,
       "overflow_x": null,
       "overflow_y": null,
       "padding": null,
       "right": null,
       "top": null,
       "visibility": null,
       "width": null
      }
     },
     "2774ac39b0cb45ccbfe71fe2b577a32c": {
      "model_module": "@jupyter-widgets/controls",
      "model_module_version": "1.5.0",
      "model_name": "ProgressStyleModel",
      "state": {
       "_model_module": "@jupyter-widgets/controls",
       "_model_module_version": "1.5.0",
       "_model_name": "ProgressStyleModel",
       "_view_count": null,
       "_view_module": "@jupyter-widgets/base",
       "_view_module_version": "1.2.0",
       "_view_name": "StyleView",
       "bar_color": null,
       "description_width": ""
      }
     },
     "2916c7b816a8484d9d32df08a635aca2": {
      "model_module": "@jupyter-widgets/controls",
      "model_module_version": "1.5.0",
      "model_name": "DescriptionStyleModel",
      "state": {
       "_model_module": "@jupyter-widgets/controls",
       "_model_module_version": "1.5.0",
       "_model_name": "DescriptionStyleModel",
       "_view_count": null,
       "_view_module": "@jupyter-widgets/base",
       "_view_module_version": "1.2.0",
       "_view_name": "StyleView",
       "description_width": ""
      }
     },
     "2945330228a1465fa5090967e9b25fe3": {
      "model_module": "@jupyter-widgets/controls",
      "model_module_version": "1.5.0",
      "model_name": "DescriptionStyleModel",
      "state": {
       "_model_module": "@jupyter-widgets/controls",
       "_model_module_version": "1.5.0",
       "_model_name": "DescriptionStyleModel",
       "_view_count": null,
       "_view_module": "@jupyter-widgets/base",
       "_view_module_version": "1.2.0",
       "_view_name": "StyleView",
       "description_width": ""
      }
     },
     "29f93411b7a640d9b281c813ded9939e": {
      "model_module": "@jupyter-widgets/controls",
      "model_module_version": "1.5.0",
      "model_name": "HTMLModel",
      "state": {
       "_dom_classes": [],
       "_model_module": "@jupyter-widgets/controls",
       "_model_module_version": "1.5.0",
       "_model_name": "HTMLModel",
       "_view_count": null,
       "_view_module": "@jupyter-widgets/controls",
       "_view_module_version": "1.5.0",
       "_view_name": "HTMLView",
       "description": "",
       "description_tooltip": null,
       "layout": "IPY_MODEL_409eacf6c3464880b19dd89f2635c7a3",
       "placeholder": "​",
       "style": "IPY_MODEL_b4b1aa2906f74dea8b76160d2641e12a",
       "value": "100%"
      }
     },
     "2c9667655dbf4e52aa89c5af28435d33": {
      "model_module": "@jupyter-widgets/base",
      "model_module_version": "1.2.0",
      "model_name": "LayoutModel",
      "state": {
       "_model_module": "@jupyter-widgets/base",
       "_model_module_version": "1.2.0",
       "_model_name": "LayoutModel",
       "_view_count": null,
       "_view_module": "@jupyter-widgets/base",
       "_view_module_version": "1.2.0",
       "_view_name": "LayoutView",
       "align_content": null,
       "align_items": null,
       "align_self": null,
       "border": null,
       "bottom": null,
       "display": null,
       "flex": null,
       "flex_flow": null,
       "grid_area": null,
       "grid_auto_columns": null,
       "grid_auto_flow": null,
       "grid_auto_rows": null,
       "grid_column": null,
       "grid_gap": null,
       "grid_row": null,
       "grid_template_areas": null,
       "grid_template_columns": null,
       "grid_template_rows": null,
       "height": null,
       "justify_content": null,
       "justify_items": null,
       "left": null,
       "margin": null,
       "max_height": null,
       "max_width": null,
       "min_height": null,
       "min_width": null,
       "object_fit": null,
       "object_position": null,
       "order": null,
       "overflow": null,
       "overflow_x": null,
       "overflow_y": null,
       "padding": null,
       "right": null,
       "top": null,
       "visibility": null,
       "width": null
      }
     },
     "2dd3cfffddfb494b9badf3c9f718d839": {
      "model_module": "@jupyter-widgets/base",
      "model_module_version": "1.2.0",
      "model_name": "LayoutModel",
      "state": {
       "_model_module": "@jupyter-widgets/base",
       "_model_module_version": "1.2.0",
       "_model_name": "LayoutModel",
       "_view_count": null,
       "_view_module": "@jupyter-widgets/base",
       "_view_module_version": "1.2.0",
       "_view_name": "LayoutView",
       "align_content": null,
       "align_items": null,
       "align_self": null,
       "border": null,
       "bottom": null,
       "display": null,
       "flex": null,
       "flex_flow": null,
       "grid_area": null,
       "grid_auto_columns": null,
       "grid_auto_flow": null,
       "grid_auto_rows": null,
       "grid_column": null,
       "grid_gap": null,
       "grid_row": null,
       "grid_template_areas": null,
       "grid_template_columns": null,
       "grid_template_rows": null,
       "height": null,
       "justify_content": null,
       "justify_items": null,
       "left": null,
       "margin": null,
       "max_height": null,
       "max_width": null,
       "min_height": null,
       "min_width": null,
       "object_fit": null,
       "object_position": null,
       "order": null,
       "overflow": null,
       "overflow_x": null,
       "overflow_y": null,
       "padding": null,
       "right": null,
       "top": null,
       "visibility": null,
       "width": null
      }
     },
     "2ebdc707bd574da9ba1298df66012d6f": {
      "model_module": "@jupyter-widgets/controls",
      "model_module_version": "1.5.0",
      "model_name": "FloatProgressModel",
      "state": {
       "_dom_classes": [],
       "_model_module": "@jupyter-widgets/controls",
       "_model_module_version": "1.5.0",
       "_model_name": "FloatProgressModel",
       "_view_count": null,
       "_view_module": "@jupyter-widgets/controls",
       "_view_module_version": "1.5.0",
       "_view_name": "ProgressView",
       "bar_style": "success",
       "description": "",
       "description_tooltip": null,
       "layout": "IPY_MODEL_a34d1743305e4dd99402765d7c8070e9",
       "max": 22421.0,
       "min": 0.0,
       "orientation": "horizontal",
       "style": "IPY_MODEL_fe660f8452f4450f84b29145317408ad",
       "value": 22421.0
      }
     },
     "39684d689140461b892ad57a90d55575": {
      "model_module": "@jupyter-widgets/base",
      "model_module_version": "1.2.0",
      "model_name": "LayoutModel",
      "state": {
       "_model_module": "@jupyter-widgets/base",
       "_model_module_version": "1.2.0",
       "_model_name": "LayoutModel",
       "_view_count": null,
       "_view_module": "@jupyter-widgets/base",
       "_view_module_version": "1.2.0",
       "_view_name": "LayoutView",
       "align_content": null,
       "align_items": null,
       "align_self": null,
       "border": null,
       "bottom": null,
       "display": null,
       "flex": null,
       "flex_flow": null,
       "grid_area": null,
       "grid_auto_columns": null,
       "grid_auto_flow": null,
       "grid_auto_rows": null,
       "grid_column": null,
       "grid_gap": null,
       "grid_row": null,
       "grid_template_areas": null,
       "grid_template_columns": null,
       "grid_template_rows": null,
       "height": null,
       "justify_content": null,
       "justify_items": null,
       "left": null,
       "margin": null,
       "max_height": null,
       "max_width": null,
       "min_height": null,
       "min_width": null,
       "object_fit": null,
       "object_position": null,
       "order": null,
       "overflow": null,
       "overflow_x": null,
       "overflow_y": null,
       "padding": null,
       "right": null,
       "top": null,
       "visibility": null,
       "width": null
      }
     },
     "39d846ecc6e744b199cccc6bf8a6c674": {
      "model_module": "@jupyter-widgets/base",
      "model_module_version": "1.2.0",
      "model_name": "LayoutModel",
      "state": {
       "_model_module": "@jupyter-widgets/base",
       "_model_module_version": "1.2.0",
       "_model_name": "LayoutModel",
       "_view_count": null,
       "_view_module": "@jupyter-widgets/base",
       "_view_module_version": "1.2.0",
       "_view_name": "LayoutView",
       "align_content": null,
       "align_items": null,
       "align_self": null,
       "border": null,
       "bottom": null,
       "display": null,
       "flex": null,
       "flex_flow": null,
       "grid_area": null,
       "grid_auto_columns": null,
       "grid_auto_flow": null,
       "grid_auto_rows": null,
       "grid_column": null,
       "grid_gap": null,
       "grid_row": null,
       "grid_template_areas": null,
       "grid_template_columns": null,
       "grid_template_rows": null,
       "height": null,
       "justify_content": null,
       "justify_items": null,
       "left": null,
       "margin": null,
       "max_height": null,
       "max_width": null,
       "min_height": null,
       "min_width": null,
       "object_fit": null,
       "object_position": null,
       "order": null,
       "overflow": null,
       "overflow_x": null,
       "overflow_y": null,
       "padding": null,
       "right": null,
       "top": null,
       "visibility": null,
       "width": null
      }
     },
     "3bf2e46690f347e2bd097921bc9471a3": {
      "model_module": "@jupyter-widgets/base",
      "model_module_version": "1.2.0",
      "model_name": "LayoutModel",
      "state": {
       "_model_module": "@jupyter-widgets/base",
       "_model_module_version": "1.2.0",
       "_model_name": "LayoutModel",
       "_view_count": null,
       "_view_module": "@jupyter-widgets/base",
       "_view_module_version": "1.2.0",
       "_view_name": "LayoutView",
       "align_content": null,
       "align_items": null,
       "align_self": null,
       "border": null,
       "bottom": null,
       "display": null,
       "flex": null,
       "flex_flow": null,
       "grid_area": null,
       "grid_auto_columns": null,
       "grid_auto_flow": null,
       "grid_auto_rows": null,
       "grid_column": null,
       "grid_gap": null,
       "grid_row": null,
       "grid_template_areas": null,
       "grid_template_columns": null,
       "grid_template_rows": null,
       "height": null,
       "justify_content": null,
       "justify_items": null,
       "left": null,
       "margin": null,
       "max_height": null,
       "max_width": null,
       "min_height": null,
       "min_width": null,
       "object_fit": null,
       "object_position": null,
       "order": null,
       "overflow": null,
       "overflow_x": null,
       "overflow_y": null,
       "padding": null,
       "right": null,
       "top": null,
       "visibility": null,
       "width": null
      }
     },
     "3cfe5f3b8ff44c95bff4d18544795105": {
      "model_module": "@jupyter-widgets/controls",
      "model_module_version": "1.5.0",
      "model_name": "HTMLModel",
      "state": {
       "_dom_classes": [],
       "_model_module": "@jupyter-widgets/controls",
       "_model_module_version": "1.5.0",
       "_model_name": "HTMLModel",
       "_view_count": null,
       "_view_module": "@jupyter-widgets/controls",
       "_view_module_version": "1.5.0",
       "_view_name": "HTMLView",
       "description": "",
       "description_tooltip": null,
       "layout": "IPY_MODEL_fc924c82a82a474d82c5f7a5e0f8be1f",
       "placeholder": "​",
       "style": "IPY_MODEL_6eefabb646f147418e24ce89bd026453",
       "value": " 112/112 [00:01&lt;00:00, 126.91it/s]"
      }
     },
     "3ddd9d20681648369e21c9d135d9da67": {
      "model_module": "@jupyter-widgets/controls",
      "model_module_version": "1.5.0",
      "model_name": "ProgressStyleModel",
      "state": {
       "_model_module": "@jupyter-widgets/controls",
       "_model_module_version": "1.5.0",
       "_model_name": "ProgressStyleModel",
       "_view_count": null,
       "_view_module": "@jupyter-widgets/base",
       "_view_module_version": "1.2.0",
       "_view_name": "StyleView",
       "bar_color": null,
       "description_width": ""
      }
     },
     "409eacf6c3464880b19dd89f2635c7a3": {
      "model_module": "@jupyter-widgets/base",
      "model_module_version": "1.2.0",
      "model_name": "LayoutModel",
      "state": {
       "_model_module": "@jupyter-widgets/base",
       "_model_module_version": "1.2.0",
       "_model_name": "LayoutModel",
       "_view_count": null,
       "_view_module": "@jupyter-widgets/base",
       "_view_module_version": "1.2.0",
       "_view_name": "LayoutView",
       "align_content": null,
       "align_items": null,
       "align_self": null,
       "border": null,
       "bottom": null,
       "display": null,
       "flex": null,
       "flex_flow": null,
       "grid_area": null,
       "grid_auto_columns": null,
       "grid_auto_flow": null,
       "grid_auto_rows": null,
       "grid_column": null,
       "grid_gap": null,
       "grid_row": null,
       "grid_template_areas": null,
       "grid_template_columns": null,
       "grid_template_rows": null,
       "height": null,
       "justify_content": null,
       "justify_items": null,
       "left": null,
       "margin": null,
       "max_height": null,
       "max_width": null,
       "min_height": null,
       "min_width": null,
       "object_fit": null,
       "object_position": null,
       "order": null,
       "overflow": null,
       "overflow_x": null,
       "overflow_y": null,
       "padding": null,
       "right": null,
       "top": null,
       "visibility": null,
       "width": null
      }
     },
     "4c0364e32f6945f2b79a8c65abc92326": {
      "model_module": "@jupyter-widgets/controls",
      "model_module_version": "1.5.0",
      "model_name": "HBoxModel",
      "state": {
       "_dom_classes": [],
       "_model_module": "@jupyter-widgets/controls",
       "_model_module_version": "1.5.0",
       "_model_name": "HBoxModel",
       "_view_count": null,
       "_view_module": "@jupyter-widgets/controls",
       "_view_module_version": "1.5.0",
       "_view_name": "HBoxView",
       "box_style": "",
       "children": [
        "IPY_MODEL_d4f4a3c183524d6b8a1f38da3a04857c",
        "IPY_MODEL_7c097ddd0d574ab2ade51208a4a1c77d",
        "IPY_MODEL_4d4c73df12a7438fb033c1994201f331"
       ],
       "layout": "IPY_MODEL_c1ec6c0363e54a1796f68dcb2492f4d4"
      }
     },
     "4d4c73df12a7438fb033c1994201f331": {
      "model_module": "@jupyter-widgets/controls",
      "model_module_version": "1.5.0",
      "model_name": "HTMLModel",
      "state": {
       "_dom_classes": [],
       "_model_module": "@jupyter-widgets/controls",
       "_model_module_version": "1.5.0",
       "_model_name": "HTMLModel",
       "_view_count": null,
       "_view_module": "@jupyter-widgets/controls",
       "_view_module_version": "1.5.0",
       "_view_name": "HTMLView",
       "description": "",
       "description_tooltip": null,
       "layout": "IPY_MODEL_2c9667655dbf4e52aa89c5af28435d33",
       "placeholder": "​",
       "style": "IPY_MODEL_90fe4cdef3b34bef9beebbf19c8ed2a3",
       "value": " 100000/100000 [04:01&lt;00:00, 630.62it/s]"
      }
     },
     "501fc3cd857e452c9eed832243036663": {
      "model_module": "@jupyter-widgets/base",
      "model_module_version": "1.2.0",
      "model_name": "LayoutModel",
      "state": {
       "_model_module": "@jupyter-widgets/base",
       "_model_module_version": "1.2.0",
       "_model_name": "LayoutModel",
       "_view_count": null,
       "_view_module": "@jupyter-widgets/base",
       "_view_module_version": "1.2.0",
       "_view_name": "LayoutView",
       "align_content": null,
       "align_items": null,
       "align_self": null,
       "border": null,
       "bottom": null,
       "display": null,
       "flex": null,
       "flex_flow": null,
       "grid_area": null,
       "grid_auto_columns": null,
       "grid_auto_flow": null,
       "grid_auto_rows": null,
       "grid_column": null,
       "grid_gap": null,
       "grid_row": null,
       "grid_template_areas": null,
       "grid_template_columns": null,
       "grid_template_rows": null,
       "height": null,
       "justify_content": null,
       "justify_items": null,
       "left": null,
       "margin": null,
       "max_height": null,
       "max_width": null,
       "min_height": null,
       "min_width": null,
       "object_fit": null,
       "object_position": null,
       "order": null,
       "overflow": null,
       "overflow_x": null,
       "overflow_y": null,
       "padding": null,
       "right": null,
       "top": null,
       "visibility": null,
       "width": null
      }
     },
     "513dd90ed6524cbd98c355cae7d2ab5d": {
      "model_module": "@jupyter-widgets/controls",
      "model_module_version": "1.5.0",
      "model_name": "HBoxModel",
      "state": {
       "_dom_classes": [],
       "_model_module": "@jupyter-widgets/controls",
       "_model_module_version": "1.5.0",
       "_model_name": "HBoxModel",
       "_view_count": null,
       "_view_module": "@jupyter-widgets/controls",
       "_view_module_version": "1.5.0",
       "_view_name": "HBoxView",
       "box_style": "",
       "children": [
        "IPY_MODEL_170c9cb9f77c4c7e99eba58fb4304807",
        "IPY_MODEL_be76c6705a134500b4a15171b87e4ef5",
        "IPY_MODEL_9c9b84425ca84f6ab9277866d04df4b5"
       ],
       "layout": "IPY_MODEL_501fc3cd857e452c9eed832243036663"
      }
     },
     "5492383e5c464924bb60f76f0087f1c5": {
      "model_module": "@jupyter-widgets/controls",
      "model_module_version": "1.5.0",
      "model_name": "HTMLModel",
      "state": {
       "_dom_classes": [],
       "_model_module": "@jupyter-widgets/controls",
       "_model_module_version": "1.5.0",
       "_model_name": "HTMLModel",
       "_view_count": null,
       "_view_module": "@jupyter-widgets/controls",
       "_view_module_version": "1.5.0",
       "_view_name": "HTMLView",
       "description": "",
       "description_tooltip": null,
       "layout": "IPY_MODEL_cc7b563f70864a8e80f831f5ab36088f",
       "placeholder": "​",
       "style": "IPY_MODEL_ed9b392d1cf64ee99249d28763488ee4",
       "value": "100%"
      }
     },
     "5c14096f595c464caef8629cca2605b7": {
      "model_module": "@jupyter-widgets/controls",
      "model_module_version": "1.5.0",
      "model_name": "DescriptionStyleModel",
      "state": {
       "_model_module": "@jupyter-widgets/controls",
       "_model_module_version": "1.5.0",
       "_model_name": "DescriptionStyleModel",
       "_view_count": null,
       "_view_module": "@jupyter-widgets/base",
       "_view_module_version": "1.2.0",
       "_view_name": "StyleView",
       "description_width": ""
      }
     },
     "5db7c71233004358af13cd29d6f911a9": {
      "model_module": "@jupyter-widgets/controls",
      "model_module_version": "1.5.0",
      "model_name": "DescriptionStyleModel",
      "state": {
       "_model_module": "@jupyter-widgets/controls",
       "_model_module_version": "1.5.0",
       "_model_name": "DescriptionStyleModel",
       "_view_count": null,
       "_view_module": "@jupyter-widgets/base",
       "_view_module_version": "1.2.0",
       "_view_name": "StyleView",
       "description_width": ""
      }
     },
     "64a7be2aef774ea2a41f93ad93516e7e": {
      "model_module": "@jupyter-widgets/controls",
      "model_module_version": "1.5.0",
      "model_name": "ProgressStyleModel",
      "state": {
       "_model_module": "@jupyter-widgets/controls",
       "_model_module_version": "1.5.0",
       "_model_name": "ProgressStyleModel",
       "_view_count": null,
       "_view_module": "@jupyter-widgets/base",
       "_view_module_version": "1.2.0",
       "_view_name": "StyleView",
       "bar_color": null,
       "description_width": ""
      }
     },
     "66eaddf576c04280a2aa9853139be903": {
      "model_module": "@jupyter-widgets/controls",
      "model_module_version": "1.5.0",
      "model_name": "HTMLModel",
      "state": {
       "_dom_classes": [],
       "_model_module": "@jupyter-widgets/controls",
       "_model_module_version": "1.5.0",
       "_model_name": "HTMLModel",
       "_view_count": null,
       "_view_module": "@jupyter-widgets/controls",
       "_view_module_version": "1.5.0",
       "_view_name": "HTMLView",
       "description": "",
       "description_tooltip": null,
       "layout": "IPY_MODEL_6881cf9870314e19ac5819a9dcd32101",
       "placeholder": "​",
       "style": "IPY_MODEL_e210122844424e08baa22f7b6d822a68",
       "value": " 22421/22421 [00:20&lt;00:00, 1164.14it/s]"
      }
     },
     "67113c3bcac3442da5db15dba6dd7132": {
      "model_module": "@jupyter-widgets/base",
      "model_module_version": "1.2.0",
      "model_name": "LayoutModel",
      "state": {
       "_model_module": "@jupyter-widgets/base",
       "_model_module_version": "1.2.0",
       "_model_name": "LayoutModel",
       "_view_count": null,
       "_view_module": "@jupyter-widgets/base",
       "_view_module_version": "1.2.0",
       "_view_name": "LayoutView",
       "align_content": null,
       "align_items": null,
       "align_self": null,
       "border": null,
       "bottom": null,
       "display": null,
       "flex": null,
       "flex_flow": null,
       "grid_area": null,
       "grid_auto_columns": null,
       "grid_auto_flow": null,
       "grid_auto_rows": null,
       "grid_column": null,
       "grid_gap": null,
       "grid_row": null,
       "grid_template_areas": null,
       "grid_template_columns": null,
       "grid_template_rows": null,
       "height": null,
       "justify_content": null,
       "justify_items": null,
       "left": null,
       "margin": null,
       "max_height": null,
       "max_width": null,
       "min_height": null,
       "min_width": null,
       "object_fit": null,
       "object_position": null,
       "order": null,
       "overflow": null,
       "overflow_x": null,
       "overflow_y": null,
       "padding": null,
       "right": null,
       "top": null,
       "visibility": null,
       "width": null
      }
     },
     "67974e0d2dcd4df0adf77e59f41f712f": {
      "model_module": "@jupyter-widgets/controls",
      "model_module_version": "1.5.0",
      "model_name": "HBoxModel",
      "state": {
       "_dom_classes": [],
       "_model_module": "@jupyter-widgets/controls",
       "_model_module_version": "1.5.0",
       "_model_name": "HBoxModel",
       "_view_count": null,
       "_view_module": "@jupyter-widgets/controls",
       "_view_module_version": "1.5.0",
       "_view_name": "HBoxView",
       "box_style": "",
       "children": [
        "IPY_MODEL_897a6e651a164c6bbde7a43461d5fca8",
        "IPY_MODEL_c0d99ce4791843c4a6896ee1e68a7144",
        "IPY_MODEL_66eaddf576c04280a2aa9853139be903"
       ],
       "layout": "IPY_MODEL_78703818e375476a823392bb952a6546"
      }
     },
     "6881cf9870314e19ac5819a9dcd32101": {
      "model_module": "@jupyter-widgets/base",
      "model_module_version": "1.2.0",
      "model_name": "LayoutModel",
      "state": {
       "_model_module": "@jupyter-widgets/base",
       "_model_module_version": "1.2.0",
       "_model_name": "LayoutModel",
       "_view_count": null,
       "_view_module": "@jupyter-widgets/base",
       "_view_module_version": "1.2.0",
       "_view_name": "LayoutView",
       "align_content": null,
       "align_items": null,
       "align_self": null,
       "border": null,
       "bottom": null,
       "display": null,
       "flex": null,
       "flex_flow": null,
       "grid_area": null,
       "grid_auto_columns": null,
       "grid_auto_flow": null,
       "grid_auto_rows": null,
       "grid_column": null,
       "grid_gap": null,
       "grid_row": null,
       "grid_template_areas": null,
       "grid_template_columns": null,
       "grid_template_rows": null,
       "height": null,
       "justify_content": null,
       "justify_items": null,
       "left": null,
       "margin": null,
       "max_height": null,
       "max_width": null,
       "min_height": null,
       "min_width": null,
       "object_fit": null,
       "object_position": null,
       "order": null,
       "overflow": null,
       "overflow_x": null,
       "overflow_y": null,
       "padding": null,
       "right": null,
       "top": null,
       "visibility": null,
       "width": null
      }
     },
     "68f5de7f507d4419a0627d193caa80e1": {
      "model_module": "@jupyter-widgets/controls",
      "model_module_version": "1.5.0",
      "model_name": "ProgressStyleModel",
      "state": {
       "_model_module": "@jupyter-widgets/controls",
       "_model_module_version": "1.5.0",
       "_model_name": "ProgressStyleModel",
       "_view_count": null,
       "_view_module": "@jupyter-widgets/base",
       "_view_module_version": "1.2.0",
       "_view_name": "StyleView",
       "bar_color": null,
       "description_width": ""
      }
     },
     "6eefabb646f147418e24ce89bd026453": {
      "model_module": "@jupyter-widgets/controls",
      "model_module_version": "1.5.0",
      "model_name": "DescriptionStyleModel",
      "state": {
       "_model_module": "@jupyter-widgets/controls",
       "_model_module_version": "1.5.0",
       "_model_name": "DescriptionStyleModel",
       "_view_count": null,
       "_view_module": "@jupyter-widgets/base",
       "_view_module_version": "1.2.0",
       "_view_name": "StyleView",
       "description_width": ""
      }
     },
     "6f4418dd31c745eb996b8b9fe97f6802": {
      "model_module": "@jupyter-widgets/controls",
      "model_module_version": "1.5.0",
      "model_name": "DescriptionStyleModel",
      "state": {
       "_model_module": "@jupyter-widgets/controls",
       "_model_module_version": "1.5.0",
       "_model_name": "DescriptionStyleModel",
       "_view_count": null,
       "_view_module": "@jupyter-widgets/base",
       "_view_module_version": "1.2.0",
       "_view_name": "StyleView",
       "description_width": ""
      }
     },
     "6f65fc00aabd4d9aa8809eaeb5c8751b": {
      "model_module": "@jupyter-widgets/controls",
      "model_module_version": "1.5.0",
      "model_name": "FloatProgressModel",
      "state": {
       "_dom_classes": [],
       "_model_module": "@jupyter-widgets/controls",
       "_model_module_version": "1.5.0",
       "_model_name": "FloatProgressModel",
       "_view_count": null,
       "_view_module": "@jupyter-widgets/controls",
       "_view_module_version": "1.5.0",
       "_view_name": "ProgressView",
       "bar_style": "success",
       "description": "",
       "description_tooltip": null,
       "layout": "IPY_MODEL_d55951abb50c4e7f8e0675fc021da7b3",
       "max": 22421.0,
       "min": 0.0,
       "orientation": "horizontal",
       "style": "IPY_MODEL_2774ac39b0cb45ccbfe71fe2b577a32c",
       "value": 22421.0
      }
     },
     "78703818e375476a823392bb952a6546": {
      "model_module": "@jupyter-widgets/base",
      "model_module_version": "1.2.0",
      "model_name": "LayoutModel",
      "state": {
       "_model_module": "@jupyter-widgets/base",
       "_model_module_version": "1.2.0",
       "_model_name": "LayoutModel",
       "_view_count": null,
       "_view_module": "@jupyter-widgets/base",
       "_view_module_version": "1.2.0",
       "_view_name": "LayoutView",
       "align_content": null,
       "align_items": null,
       "align_self": null,
       "border": null,
       "bottom": null,
       "display": null,
       "flex": null,
       "flex_flow": null,
       "grid_area": null,
       "grid_auto_columns": null,
       "grid_auto_flow": null,
       "grid_auto_rows": null,
       "grid_column": null,
       "grid_gap": null,
       "grid_row": null,
       "grid_template_areas": null,
       "grid_template_columns": null,
       "grid_template_rows": null,
       "height": null,
       "justify_content": null,
       "justify_items": null,
       "left": null,
       "margin": null,
       "max_height": null,
       "max_width": null,
       "min_height": null,
       "min_width": null,
       "object_fit": null,
       "object_position": null,
       "order": null,
       "overflow": null,
       "overflow_x": null,
       "overflow_y": null,
       "padding": null,
       "right": null,
       "top": null,
       "visibility": null,
       "width": null
      }
     },
     "7b616b6cc98e445bb92bf40ac1a0fb52": {
      "model_module": "@jupyter-widgets/controls",
      "model_module_version": "1.5.0",
      "model_name": "DescriptionStyleModel",
      "state": {
       "_model_module": "@jupyter-widgets/controls",
       "_model_module_version": "1.5.0",
       "_model_name": "DescriptionStyleModel",
       "_view_count": null,
       "_view_module": "@jupyter-widgets/base",
       "_view_module_version": "1.2.0",
       "_view_name": "StyleView",
       "description_width": ""
      }
     },
     "7c097ddd0d574ab2ade51208a4a1c77d": {
      "model_module": "@jupyter-widgets/controls",
      "model_module_version": "1.5.0",
      "model_name": "FloatProgressModel",
      "state": {
       "_dom_classes": [],
       "_model_module": "@jupyter-widgets/controls",
       "_model_module_version": "1.5.0",
       "_model_name": "FloatProgressModel",
       "_view_count": null,
       "_view_module": "@jupyter-widgets/controls",
       "_view_module_version": "1.5.0",
       "_view_name": "ProgressView",
       "bar_style": "success",
       "description": "",
       "description_tooltip": null,
       "layout": "IPY_MODEL_0ef5864b278744018d304a1e8699c2ff",
       "max": 100000.0,
       "min": 0.0,
       "orientation": "horizontal",
       "style": "IPY_MODEL_64a7be2aef774ea2a41f93ad93516e7e",
       "value": 100000.0
      }
     },
     "897a6e651a164c6bbde7a43461d5fca8": {
      "model_module": "@jupyter-widgets/controls",
      "model_module_version": "1.5.0",
      "model_name": "HTMLModel",
      "state": {
       "_dom_classes": [],
       "_model_module": "@jupyter-widgets/controls",
       "_model_module_version": "1.5.0",
       "_model_name": "HTMLModel",
       "_view_count": null,
       "_view_module": "@jupyter-widgets/controls",
       "_view_module_version": "1.5.0",
       "_view_name": "HTMLView",
       "description": "",
       "description_tooltip": null,
       "layout": "IPY_MODEL_b65a44e2e2144b7d92939d54426b73ba",
       "placeholder": "​",
       "style": "IPY_MODEL_8ecd8a9dcad04692926ab4e1d0f74d35",
       "value": "100%"
      }
     },
     "8e6d8f20168745ec9f6576cb01a7e76a": {
      "model_module": "@jupyter-widgets/controls",
      "model_module_version": "1.5.0",
      "model_name": "HBoxModel",
      "state": {
       "_dom_classes": [],
       "_model_module": "@jupyter-widgets/controls",
       "_model_module_version": "1.5.0",
       "_model_name": "HBoxModel",
       "_view_count": null,
       "_view_module": "@jupyter-widgets/controls",
       "_view_module_version": "1.5.0",
       "_view_name": "HBoxView",
       "box_style": "",
       "children": [
        "IPY_MODEL_5492383e5c464924bb60f76f0087f1c5",
        "IPY_MODEL_6f65fc00aabd4d9aa8809eaeb5c8751b",
        "IPY_MODEL_d0a7b9f0aff6454692839c27dc132d22"
       ],
       "layout": "IPY_MODEL_67113c3bcac3442da5db15dba6dd7132"
      }
     },
     "8ecd8a9dcad04692926ab4e1d0f74d35": {
      "model_module": "@jupyter-widgets/controls",
      "model_module_version": "1.5.0",
      "model_name": "DescriptionStyleModel",
      "state": {
       "_model_module": "@jupyter-widgets/controls",
       "_model_module_version": "1.5.0",
       "_model_name": "DescriptionStyleModel",
       "_view_count": null,
       "_view_module": "@jupyter-widgets/base",
       "_view_module_version": "1.2.0",
       "_view_name": "StyleView",
       "description_width": ""
      }
     },
     "8f31971b25b14c7c8047c7b280c041f2": {
      "model_module": "@jupyter-widgets/controls",
      "model_module_version": "1.5.0",
      "model_name": "HTMLModel",
      "state": {
       "_dom_classes": [],
       "_model_module": "@jupyter-widgets/controls",
       "_model_module_version": "1.5.0",
       "_model_name": "HTMLModel",
       "_view_count": null,
       "_view_module": "@jupyter-widgets/controls",
       "_view_module_version": "1.5.0",
       "_view_name": "HTMLView",
       "description": "",
       "description_tooltip": null,
       "layout": "IPY_MODEL_08f3c21a6b7a4d059102657df541aa2e",
       "placeholder": "​",
       "style": "IPY_MODEL_90792ccf65ae4688954b1670f5bf2ab5",
       "value": "100%"
      }
     },
     "90792ccf65ae4688954b1670f5bf2ab5": {
      "model_module": "@jupyter-widgets/controls",
      "model_module_version": "1.5.0",
      "model_name": "DescriptionStyleModel",
      "state": {
       "_model_module": "@jupyter-widgets/controls",
       "_model_module_version": "1.5.0",
       "_model_name": "DescriptionStyleModel",
       "_view_count": null,
       "_view_module": "@jupyter-widgets/base",
       "_view_module_version": "1.2.0",
       "_view_name": "StyleView",
       "description_width": ""
      }
     },
     "90fe4cdef3b34bef9beebbf19c8ed2a3": {
      "model_module": "@jupyter-widgets/controls",
      "model_module_version": "1.5.0",
      "model_name": "DescriptionStyleModel",
      "state": {
       "_model_module": "@jupyter-widgets/controls",
       "_model_module_version": "1.5.0",
       "_model_name": "DescriptionStyleModel",
       "_view_count": null,
       "_view_module": "@jupyter-widgets/base",
       "_view_module_version": "1.2.0",
       "_view_name": "StyleView",
       "description_width": ""
      }
     },
     "955356be51ac47cea4f32371ccb1d191": {
      "model_module": "@jupyter-widgets/controls",
      "model_module_version": "1.5.0",
      "model_name": "FloatProgressModel",
      "state": {
       "_dom_classes": [],
       "_model_module": "@jupyter-widgets/controls",
       "_model_module_version": "1.5.0",
       "_model_name": "FloatProgressModel",
       "_view_count": null,
       "_view_module": "@jupyter-widgets/controls",
       "_view_module_version": "1.5.0",
       "_view_name": "ProgressView",
       "bar_style": "success",
       "description": "",
       "description_tooltip": null,
       "layout": "IPY_MODEL_fc245d79f5f84be89304ef775348e3ee",
       "max": 112.0,
       "min": 0.0,
       "orientation": "horizontal",
       "style": "IPY_MODEL_3ddd9d20681648369e21c9d135d9da67",
       "value": 112.0
      }
     },
     "9c9b84425ca84f6ab9277866d04df4b5": {
      "model_module": "@jupyter-widgets/controls",
      "model_module_version": "1.5.0",
      "model_name": "HTMLModel",
      "state": {
       "_dom_classes": [],
       "_model_module": "@jupyter-widgets/controls",
       "_model_module_version": "1.5.0",
       "_model_name": "HTMLModel",
       "_view_count": null,
       "_view_module": "@jupyter-widgets/controls",
       "_view_module_version": "1.5.0",
       "_view_name": "HTMLView",
       "description": "",
       "description_tooltip": null,
       "layout": "IPY_MODEL_0163f37b1f56433da5e4fb9dd0465f83",
       "placeholder": "​",
       "style": "IPY_MODEL_a8620c8ca1aa469891f4b9e335a67bdd",
       "value": " 100000/100000 [02:11&lt;00:00, 805.56it/s]"
      }
     },
     "9f1807928b194fc58bc6b3329cfd5b68": {
      "model_module": "@jupyter-widgets/controls",
      "model_module_version": "1.5.0",
      "model_name": "HBoxModel",
      "state": {
       "_dom_classes": [],
       "_model_module": "@jupyter-widgets/controls",
       "_model_module_version": "1.5.0",
       "_model_name": "HBoxModel",
       "_view_count": null,
       "_view_module": "@jupyter-widgets/controls",
       "_view_module_version": "1.5.0",
       "_view_name": "HBoxView",
       "box_style": "",
       "children": [
        "IPY_MODEL_29f93411b7a640d9b281c813ded9939e",
        "IPY_MODEL_2ebdc707bd574da9ba1298df66012d6f",
        "IPY_MODEL_d5ac032506f044ed96bfdf7b19cd1b4b"
       ],
       "layout": "IPY_MODEL_39684d689140461b892ad57a90d55575"
      }
     },
     "a34d1743305e4dd99402765d7c8070e9": {
      "model_module": "@jupyter-widgets/base",
      "model_module_version": "1.2.0",
      "model_name": "LayoutModel",
      "state": {
       "_model_module": "@jupyter-widgets/base",
       "_model_module_version": "1.2.0",
       "_model_name": "LayoutModel",
       "_view_count": null,
       "_view_module": "@jupyter-widgets/base",
       "_view_module_version": "1.2.0",
       "_view_name": "LayoutView",
       "align_content": null,
       "align_items": null,
       "align_self": null,
       "border": null,
       "bottom": null,
       "display": null,
       "flex": null,
       "flex_flow": null,
       "grid_area": null,
       "grid_auto_columns": null,
       "grid_auto_flow": null,
       "grid_auto_rows": null,
       "grid_column": null,
       "grid_gap": null,
       "grid_row": null,
       "grid_template_areas": null,
       "grid_template_columns": null,
       "grid_template_rows": null,
       "height": null,
       "justify_content": null,
       "justify_items": null,
       "left": null,
       "margin": null,
       "max_height": null,
       "max_width": null,
       "min_height": null,
       "min_width": null,
       "object_fit": null,
       "object_position": null,
       "order": null,
       "overflow": null,
       "overflow_x": null,
       "overflow_y": null,
       "padding": null,
       "right": null,
       "top": null,
       "visibility": null,
       "width": null
      }
     },
     "a3fb4c1c913445eda0045615ba4011e6": {
      "model_module": "@jupyter-widgets/base",
      "model_module_version": "1.2.0",
      "model_name": "LayoutModel",
      "state": {
       "_model_module": "@jupyter-widgets/base",
       "_model_module_version": "1.2.0",
       "_model_name": "LayoutModel",
       "_view_count": null,
       "_view_module": "@jupyter-widgets/base",
       "_view_module_version": "1.2.0",
       "_view_name": "LayoutView",
       "align_content": null,
       "align_items": null,
       "align_self": null,
       "border": null,
       "bottom": null,
       "display": null,
       "flex": null,
       "flex_flow": null,
       "grid_area": null,
       "grid_auto_columns": null,
       "grid_auto_flow": null,
       "grid_auto_rows": null,
       "grid_column": null,
       "grid_gap": null,
       "grid_row": null,
       "grid_template_areas": null,
       "grid_template_columns": null,
       "grid_template_rows": null,
       "height": null,
       "justify_content": null,
       "justify_items": null,
       "left": null,
       "margin": null,
       "max_height": null,
       "max_width": null,
       "min_height": null,
       "min_width": null,
       "object_fit": null,
       "object_position": null,
       "order": null,
       "overflow": null,
       "overflow_x": null,
       "overflow_y": null,
       "padding": null,
       "right": null,
       "top": null,
       "visibility": null,
       "width": null
      }
     },
     "a8620c8ca1aa469891f4b9e335a67bdd": {
      "model_module": "@jupyter-widgets/controls",
      "model_module_version": "1.5.0",
      "model_name": "DescriptionStyleModel",
      "state": {
       "_model_module": "@jupyter-widgets/controls",
       "_model_module_version": "1.5.0",
       "_model_name": "DescriptionStyleModel",
       "_view_count": null,
       "_view_module": "@jupyter-widgets/base",
       "_view_module_version": "1.2.0",
       "_view_name": "StyleView",
       "description_width": ""
      }
     },
     "afd9dda92d4e45d7bfb68d32a0b1ab62": {
      "model_module": "@jupyter-widgets/base",
      "model_module_version": "1.2.0",
      "model_name": "LayoutModel",
      "state": {
       "_model_module": "@jupyter-widgets/base",
       "_model_module_version": "1.2.0",
       "_model_name": "LayoutModel",
       "_view_count": null,
       "_view_module": "@jupyter-widgets/base",
       "_view_module_version": "1.2.0",
       "_view_name": "LayoutView",
       "align_content": null,
       "align_items": null,
       "align_self": null,
       "border": null,
       "bottom": null,
       "display": null,
       "flex": null,
       "flex_flow": null,
       "grid_area": null,
       "grid_auto_columns": null,
       "grid_auto_flow": null,
       "grid_auto_rows": null,
       "grid_column": null,
       "grid_gap": null,
       "grid_row": null,
       "grid_template_areas": null,
       "grid_template_columns": null,
       "grid_template_rows": null,
       "height": null,
       "justify_content": null,
       "justify_items": null,
       "left": null,
       "margin": null,
       "max_height": null,
       "max_width": null,
       "min_height": null,
       "min_width": null,
       "object_fit": null,
       "object_position": null,
       "order": null,
       "overflow": null,
       "overflow_x": null,
       "overflow_y": null,
       "padding": null,
       "right": null,
       "top": null,
       "visibility": null,
       "width": null
      }
     },
     "b4b1aa2906f74dea8b76160d2641e12a": {
      "model_module": "@jupyter-widgets/controls",
      "model_module_version": "1.5.0",
      "model_name": "DescriptionStyleModel",
      "state": {
       "_model_module": "@jupyter-widgets/controls",
       "_model_module_version": "1.5.0",
       "_model_name": "DescriptionStyleModel",
       "_view_count": null,
       "_view_module": "@jupyter-widgets/base",
       "_view_module_version": "1.2.0",
       "_view_name": "StyleView",
       "description_width": ""
      }
     },
     "b65a44e2e2144b7d92939d54426b73ba": {
      "model_module": "@jupyter-widgets/base",
      "model_module_version": "1.2.0",
      "model_name": "LayoutModel",
      "state": {
       "_model_module": "@jupyter-widgets/base",
       "_model_module_version": "1.2.0",
       "_model_name": "LayoutModel",
       "_view_count": null,
       "_view_module": "@jupyter-widgets/base",
       "_view_module_version": "1.2.0",
       "_view_name": "LayoutView",
       "align_content": null,
       "align_items": null,
       "align_self": null,
       "border": null,
       "bottom": null,
       "display": null,
       "flex": null,
       "flex_flow": null,
       "grid_area": null,
       "grid_auto_columns": null,
       "grid_auto_flow": null,
       "grid_auto_rows": null,
       "grid_column": null,
       "grid_gap": null,
       "grid_row": null,
       "grid_template_areas": null,
       "grid_template_columns": null,
       "grid_template_rows": null,
       "height": null,
       "justify_content": null,
       "justify_items": null,
       "left": null,
       "margin": null,
       "max_height": null,
       "max_width": null,
       "min_height": null,
       "min_width": null,
       "object_fit": null,
       "object_position": null,
       "order": null,
       "overflow": null,
       "overflow_x": null,
       "overflow_y": null,
       "padding": null,
       "right": null,
       "top": null,
       "visibility": null,
       "width": null
      }
     },
     "be76c6705a134500b4a15171b87e4ef5": {
      "model_module": "@jupyter-widgets/controls",
      "model_module_version": "1.5.0",
      "model_name": "FloatProgressModel",
      "state": {
       "_dom_classes": [],
       "_model_module": "@jupyter-widgets/controls",
       "_model_module_version": "1.5.0",
       "_model_name": "FloatProgressModel",
       "_view_count": null,
       "_view_module": "@jupyter-widgets/controls",
       "_view_module_version": "1.5.0",
       "_view_name": "ProgressView",
       "bar_style": "success",
       "description": "",
       "description_tooltip": null,
       "layout": "IPY_MODEL_a3fb4c1c913445eda0045615ba4011e6",
       "max": 100000.0,
       "min": 0.0,
       "orientation": "horizontal",
       "style": "IPY_MODEL_15a683d784bf4904a49fdf1a11c78b8c",
       "value": 100000.0
      }
     },
     "c0d99ce4791843c4a6896ee1e68a7144": {
      "model_module": "@jupyter-widgets/controls",
      "model_module_version": "1.5.0",
      "model_name": "FloatProgressModel",
      "state": {
       "_dom_classes": [],
       "_model_module": "@jupyter-widgets/controls",
       "_model_module_version": "1.5.0",
       "_model_name": "FloatProgressModel",
       "_view_count": null,
       "_view_module": "@jupyter-widgets/controls",
       "_view_module_version": "1.5.0",
       "_view_name": "ProgressView",
       "bar_style": "success",
       "description": "",
       "description_tooltip": null,
       "layout": "IPY_MODEL_39d846ecc6e744b199cccc6bf8a6c674",
       "max": 22421.0,
       "min": 0.0,
       "orientation": "horizontal",
       "style": "IPY_MODEL_fdbc9d9f86d040b9a6b618a4d9b4afeb",
       "value": 22421.0
      }
     },
     "c1ec6c0363e54a1796f68dcb2492f4d4": {
      "model_module": "@jupyter-widgets/base",
      "model_module_version": "1.2.0",
      "model_name": "LayoutModel",
      "state": {
       "_model_module": "@jupyter-widgets/base",
       "_model_module_version": "1.2.0",
       "_model_name": "LayoutModel",
       "_view_count": null,
       "_view_module": "@jupyter-widgets/base",
       "_view_module_version": "1.2.0",
       "_view_name": "LayoutView",
       "align_content": null,
       "align_items": null,
       "align_self": null,
       "border": null,
       "bottom": null,
       "display": null,
       "flex": null,
       "flex_flow": null,
       "grid_area": null,
       "grid_auto_columns": null,
       "grid_auto_flow": null,
       "grid_auto_rows": null,
       "grid_column": null,
       "grid_gap": null,
       "grid_row": null,
       "grid_template_areas": null,
       "grid_template_columns": null,
       "grid_template_rows": null,
       "height": null,
       "justify_content": null,
       "justify_items": null,
       "left": null,
       "margin": null,
       "max_height": null,
       "max_width": null,
       "min_height": null,
       "min_width": null,
       "object_fit": null,
       "object_position": null,
       "order": null,
       "overflow": null,
       "overflow_x": null,
       "overflow_y": null,
       "padding": null,
       "right": null,
       "top": null,
       "visibility": null,
       "width": null
      }
     },
     "cc6f7623679f41e2840d5c9a39323226": {
      "model_module": "@jupyter-widgets/base",
      "model_module_version": "1.2.0",
      "model_name": "LayoutModel",
      "state": {
       "_model_module": "@jupyter-widgets/base",
       "_model_module_version": "1.2.0",
       "_model_name": "LayoutModel",
       "_view_count": null,
       "_view_module": "@jupyter-widgets/base",
       "_view_module_version": "1.2.0",
       "_view_name": "LayoutView",
       "align_content": null,
       "align_items": null,
       "align_self": null,
       "border": null,
       "bottom": null,
       "display": null,
       "flex": null,
       "flex_flow": null,
       "grid_area": null,
       "grid_auto_columns": null,
       "grid_auto_flow": null,
       "grid_auto_rows": null,
       "grid_column": null,
       "grid_gap": null,
       "grid_row": null,
       "grid_template_areas": null,
       "grid_template_columns": null,
       "grid_template_rows": null,
       "height": null,
       "justify_content": null,
       "justify_items": null,
       "left": null,
       "margin": null,
       "max_height": null,
       "max_width": null,
       "min_height": null,
       "min_width": null,
       "object_fit": null,
       "object_position": null,
       "order": null,
       "overflow": null,
       "overflow_x": null,
       "overflow_y": null,
       "padding": null,
       "right": null,
       "top": null,
       "visibility": null,
       "width": null
      }
     },
     "cc7b563f70864a8e80f831f5ab36088f": {
      "model_module": "@jupyter-widgets/base",
      "model_module_version": "1.2.0",
      "model_name": "LayoutModel",
      "state": {
       "_model_module": "@jupyter-widgets/base",
       "_model_module_version": "1.2.0",
       "_model_name": "LayoutModel",
       "_view_count": null,
       "_view_module": "@jupyter-widgets/base",
       "_view_module_version": "1.2.0",
       "_view_name": "LayoutView",
       "align_content": null,
       "align_items": null,
       "align_self": null,
       "border": null,
       "bottom": null,
       "display": null,
       "flex": null,
       "flex_flow": null,
       "grid_area": null,
       "grid_auto_columns": null,
       "grid_auto_flow": null,
       "grid_auto_rows": null,
       "grid_column": null,
       "grid_gap": null,
       "grid_row": null,
       "grid_template_areas": null,
       "grid_template_columns": null,
       "grid_template_rows": null,
       "height": null,
       "justify_content": null,
       "justify_items": null,
       "left": null,
       "margin": null,
       "max_height": null,
       "max_width": null,
       "min_height": null,
       "min_width": null,
       "object_fit": null,
       "object_position": null,
       "order": null,
       "overflow": null,
       "overflow_x": null,
       "overflow_y": null,
       "padding": null,
       "right": null,
       "top": null,
       "visibility": null,
       "width": null
      }
     },
     "d0a7b9f0aff6454692839c27dc132d22": {
      "model_module": "@jupyter-widgets/controls",
      "model_module_version": "1.5.0",
      "model_name": "HTMLModel",
      "state": {
       "_dom_classes": [],
       "_model_module": "@jupyter-widgets/controls",
       "_model_module_version": "1.5.0",
       "_model_name": "HTMLModel",
       "_view_count": null,
       "_view_module": "@jupyter-widgets/controls",
       "_view_module_version": "1.5.0",
       "_view_name": "HTMLView",
       "description": "",
       "description_tooltip": null,
       "layout": "IPY_MODEL_afd9dda92d4e45d7bfb68d32a0b1ab62",
       "placeholder": "​",
       "style": "IPY_MODEL_7b616b6cc98e445bb92bf40ac1a0fb52",
       "value": " 22421/22421 [02:44&lt;00:00, 156.69it/s]"
      }
     },
     "d1f0ebd5c669429795a606767c49bfc2": {
      "model_module": "@jupyter-widgets/controls",
      "model_module_version": "1.5.0",
      "model_name": "HTMLModel",
      "state": {
       "_dom_classes": [],
       "_model_module": "@jupyter-widgets/controls",
       "_model_module_version": "1.5.0",
       "_model_name": "HTMLModel",
       "_view_count": null,
       "_view_module": "@jupyter-widgets/controls",
       "_view_module_version": "1.5.0",
       "_view_name": "HTMLView",
       "description": "",
       "description_tooltip": null,
       "layout": "IPY_MODEL_eb69f974cd314ffa8f46f97892584c11",
       "placeholder": "​",
       "style": "IPY_MODEL_5c14096f595c464caef8629cca2605b7",
       "value": " 112/112 [00:51&lt;00:00,  2.25it/s]"
      }
     },
     "d2ae7eca5512411388d654cdcf561505": {
      "model_module": "@jupyter-widgets/base",
      "model_module_version": "1.2.0",
      "model_name": "LayoutModel",
      "state": {
       "_model_module": "@jupyter-widgets/base",
       "_model_module_version": "1.2.0",
       "_model_name": "LayoutModel",
       "_view_count": null,
       "_view_module": "@jupyter-widgets/base",
       "_view_module_version": "1.2.0",
       "_view_name": "LayoutView",
       "align_content": null,
       "align_items": null,
       "align_self": null,
       "border": null,
       "bottom": null,
       "display": null,
       "flex": null,
       "flex_flow": null,
       "grid_area": null,
       "grid_auto_columns": null,
       "grid_auto_flow": null,
       "grid_auto_rows": null,
       "grid_column": null,
       "grid_gap": null,
       "grid_row": null,
       "grid_template_areas": null,
       "grid_template_columns": null,
       "grid_template_rows": null,
       "height": null,
       "justify_content": null,
       "justify_items": null,
       "left": null,
       "margin": null,
       "max_height": null,
       "max_width": null,
       "min_height": null,
       "min_width": null,
       "object_fit": null,
       "object_position": null,
       "order": null,
       "overflow": null,
       "overflow_x": null,
       "overflow_y": null,
       "padding": null,
       "right": null,
       "top": null,
       "visibility": null,
       "width": null
      }
     },
     "d4f4a3c183524d6b8a1f38da3a04857c": {
      "model_module": "@jupyter-widgets/controls",
      "model_module_version": "1.5.0",
      "model_name": "HTMLModel",
      "state": {
       "_dom_classes": [],
       "_model_module": "@jupyter-widgets/controls",
       "_model_module_version": "1.5.0",
       "_model_name": "HTMLModel",
       "_view_count": null,
       "_view_module": "@jupyter-widgets/controls",
       "_view_module_version": "1.5.0",
       "_view_name": "HTMLView",
       "description": "",
       "description_tooltip": null,
       "layout": "IPY_MODEL_cc6f7623679f41e2840d5c9a39323226",
       "placeholder": "​",
       "style": "IPY_MODEL_2945330228a1465fa5090967e9b25fe3",
       "value": "100%"
      }
     },
     "d55951abb50c4e7f8e0675fc021da7b3": {
      "model_module": "@jupyter-widgets/base",
      "model_module_version": "1.2.0",
      "model_name": "LayoutModel",
      "state": {
       "_model_module": "@jupyter-widgets/base",
       "_model_module_version": "1.2.0",
       "_model_name": "LayoutModel",
       "_view_count": null,
       "_view_module": "@jupyter-widgets/base",
       "_view_module_version": "1.2.0",
       "_view_name": "LayoutView",
       "align_content": null,
       "align_items": null,
       "align_self": null,
       "border": null,
       "bottom": null,
       "display": null,
       "flex": null,
       "flex_flow": null,
       "grid_area": null,
       "grid_auto_columns": null,
       "grid_auto_flow": null,
       "grid_auto_rows": null,
       "grid_column": null,
       "grid_gap": null,
       "grid_row": null,
       "grid_template_areas": null,
       "grid_template_columns": null,
       "grid_template_rows": null,
       "height": null,
       "justify_content": null,
       "justify_items": null,
       "left": null,
       "margin": null,
       "max_height": null,
       "max_width": null,
       "min_height": null,
       "min_width": null,
       "object_fit": null,
       "object_position": null,
       "order": null,
       "overflow": null,
       "overflow_x": null,
       "overflow_y": null,
       "padding": null,
       "right": null,
       "top": null,
       "visibility": null,
       "width": null
      }
     },
     "d5ac032506f044ed96bfdf7b19cd1b4b": {
      "model_module": "@jupyter-widgets/controls",
      "model_module_version": "1.5.0",
      "model_name": "HTMLModel",
      "state": {
       "_dom_classes": [],
       "_model_module": "@jupyter-widgets/controls",
       "_model_module_version": "1.5.0",
       "_model_name": "HTMLModel",
       "_view_count": null,
       "_view_module": "@jupyter-widgets/controls",
       "_view_module_version": "1.5.0",
       "_view_name": "HTMLView",
       "description": "",
       "description_tooltip": null,
       "layout": "IPY_MODEL_2764d578221e40beaeec24724da9e47b",
       "placeholder": "​",
       "style": "IPY_MODEL_6f4418dd31c745eb996b8b9fe97f6802",
       "value": " 22421/22421 [2:36:50&lt;00:00,  1.87it/s]"
      }
     },
     "d89553be7fb243e695f0ed820c3a0e49": {
      "model_module": "@jupyter-widgets/controls",
      "model_module_version": "1.5.0",
      "model_name": "HBoxModel",
      "state": {
       "_dom_classes": [],
       "_model_module": "@jupyter-widgets/controls",
       "_model_module_version": "1.5.0",
       "_model_name": "HBoxModel",
       "_view_count": null,
       "_view_module": "@jupyter-widgets/controls",
       "_view_module_version": "1.5.0",
       "_view_name": "HBoxView",
       "box_style": "",
       "children": [
        "IPY_MODEL_002af19a4da547608d59b4a223ba8ae2",
        "IPY_MODEL_955356be51ac47cea4f32371ccb1d191",
        "IPY_MODEL_3cfe5f3b8ff44c95bff4d18544795105"
       ],
       "layout": "IPY_MODEL_d92ef62438ab4e52b01b82111a02cc69"
      }
     },
     "d92ef62438ab4e52b01b82111a02cc69": {
      "model_module": "@jupyter-widgets/base",
      "model_module_version": "1.2.0",
      "model_name": "LayoutModel",
      "state": {
       "_model_module": "@jupyter-widgets/base",
       "_model_module_version": "1.2.0",
       "_model_name": "LayoutModel",
       "_view_count": null,
       "_view_module": "@jupyter-widgets/base",
       "_view_module_version": "1.2.0",
       "_view_name": "LayoutView",
       "align_content": null,
       "align_items": null,
       "align_self": null,
       "border": null,
       "bottom": null,
       "display": null,
       "flex": null,
       "flex_flow": null,
       "grid_area": null,
       "grid_auto_columns": null,
       "grid_auto_flow": null,
       "grid_auto_rows": null,
       "grid_column": null,
       "grid_gap": null,
       "grid_row": null,
       "grid_template_areas": null,
       "grid_template_columns": null,
       "grid_template_rows": null,
       "height": null,
       "justify_content": null,
       "justify_items": null,
       "left": null,
       "margin": null,
       "max_height": null,
       "max_width": null,
       "min_height": null,
       "min_width": null,
       "object_fit": null,
       "object_position": null,
       "order": null,
       "overflow": null,
       "overflow_x": null,
       "overflow_y": null,
       "padding": null,
       "right": null,
       "top": null,
       "visibility": null,
       "width": null
      }
     },
     "e097982051014350b8eb28630fd262ab": {
      "model_module": "@jupyter-widgets/base",
      "model_module_version": "1.2.0",
      "model_name": "LayoutModel",
      "state": {
       "_model_module": "@jupyter-widgets/base",
       "_model_module_version": "1.2.0",
       "_model_name": "LayoutModel",
       "_view_count": null,
       "_view_module": "@jupyter-widgets/base",
       "_view_module_version": "1.2.0",
       "_view_name": "LayoutView",
       "align_content": null,
       "align_items": null,
       "align_self": null,
       "border": null,
       "bottom": null,
       "display": null,
       "flex": null,
       "flex_flow": null,
       "grid_area": null,
       "grid_auto_columns": null,
       "grid_auto_flow": null,
       "grid_auto_rows": null,
       "grid_column": null,
       "grid_gap": null,
       "grid_row": null,
       "grid_template_areas": null,
       "grid_template_columns": null,
       "grid_template_rows": null,
       "height": null,
       "justify_content": null,
       "justify_items": null,
       "left": null,
       "margin": null,
       "max_height": null,
       "max_width": null,
       "min_height": null,
       "min_width": null,
       "object_fit": null,
       "object_position": null,
       "order": null,
       "overflow": null,
       "overflow_x": null,
       "overflow_y": null,
       "padding": null,
       "right": null,
       "top": null,
       "visibility": null,
       "width": null
      }
     },
     "e210122844424e08baa22f7b6d822a68": {
      "model_module": "@jupyter-widgets/controls",
      "model_module_version": "1.5.0",
      "model_name": "DescriptionStyleModel",
      "state": {
       "_model_module": "@jupyter-widgets/controls",
       "_model_module_version": "1.5.0",
       "_model_name": "DescriptionStyleModel",
       "_view_count": null,
       "_view_module": "@jupyter-widgets/base",
       "_view_module_version": "1.2.0",
       "_view_name": "StyleView",
       "description_width": ""
      }
     },
     "ea3f934b031e49b793b64b7d2fc3ee62": {
      "model_module": "@jupyter-widgets/controls",
      "model_module_version": "1.5.0",
      "model_name": "FloatProgressModel",
      "state": {
       "_dom_classes": [],
       "_model_module": "@jupyter-widgets/controls",
       "_model_module_version": "1.5.0",
       "_model_name": "FloatProgressModel",
       "_view_count": null,
       "_view_module": "@jupyter-widgets/controls",
       "_view_module_version": "1.5.0",
       "_view_name": "ProgressView",
       "bar_style": "success",
       "description": "",
       "description_tooltip": null,
       "layout": "IPY_MODEL_d2ae7eca5512411388d654cdcf561505",
       "max": 112.0,
       "min": 0.0,
       "orientation": "horizontal",
       "style": "IPY_MODEL_68f5de7f507d4419a0627d193caa80e1",
       "value": 112.0
      }
     },
     "eb69f974cd314ffa8f46f97892584c11": {
      "model_module": "@jupyter-widgets/base",
      "model_module_version": "1.2.0",
      "model_name": "LayoutModel",
      "state": {
       "_model_module": "@jupyter-widgets/base",
       "_model_module_version": "1.2.0",
       "_model_name": "LayoutModel",
       "_view_count": null,
       "_view_module": "@jupyter-widgets/base",
       "_view_module_version": "1.2.0",
       "_view_name": "LayoutView",
       "align_content": null,
       "align_items": null,
       "align_self": null,
       "border": null,
       "bottom": null,
       "display": null,
       "flex": null,
       "flex_flow": null,
       "grid_area": null,
       "grid_auto_columns": null,
       "grid_auto_flow": null,
       "grid_auto_rows": null,
       "grid_column": null,
       "grid_gap": null,
       "grid_row": null,
       "grid_template_areas": null,
       "grid_template_columns": null,
       "grid_template_rows": null,
       "height": null,
       "justify_content": null,
       "justify_items": null,
       "left": null,
       "margin": null,
       "max_height": null,
       "max_width": null,
       "min_height": null,
       "min_width": null,
       "object_fit": null,
       "object_position": null,
       "order": null,
       "overflow": null,
       "overflow_x": null,
       "overflow_y": null,
       "padding": null,
       "right": null,
       "top": null,
       "visibility": null,
       "width": null
      }
     },
     "ed9b392d1cf64ee99249d28763488ee4": {
      "model_module": "@jupyter-widgets/controls",
      "model_module_version": "1.5.0",
      "model_name": "DescriptionStyleModel",
      "state": {
       "_model_module": "@jupyter-widgets/controls",
       "_model_module_version": "1.5.0",
       "_model_name": "DescriptionStyleModel",
       "_view_count": null,
       "_view_module": "@jupyter-widgets/base",
       "_view_module_version": "1.2.0",
       "_view_name": "StyleView",
       "description_width": ""
      }
     },
     "fc245d79f5f84be89304ef775348e3ee": {
      "model_module": "@jupyter-widgets/base",
      "model_module_version": "1.2.0",
      "model_name": "LayoutModel",
      "state": {
       "_model_module": "@jupyter-widgets/base",
       "_model_module_version": "1.2.0",
       "_model_name": "LayoutModel",
       "_view_count": null,
       "_view_module": "@jupyter-widgets/base",
       "_view_module_version": "1.2.0",
       "_view_name": "LayoutView",
       "align_content": null,
       "align_items": null,
       "align_self": null,
       "border": null,
       "bottom": null,
       "display": null,
       "flex": null,
       "flex_flow": null,
       "grid_area": null,
       "grid_auto_columns": null,
       "grid_auto_flow": null,
       "grid_auto_rows": null,
       "grid_column": null,
       "grid_gap": null,
       "grid_row": null,
       "grid_template_areas": null,
       "grid_template_columns": null,
       "grid_template_rows": null,
       "height": null,
       "justify_content": null,
       "justify_items": null,
       "left": null,
       "margin": null,
       "max_height": null,
       "max_width": null,
       "min_height": null,
       "min_width": null,
       "object_fit": null,
       "object_position": null,
       "order": null,
       "overflow": null,
       "overflow_x": null,
       "overflow_y": null,
       "padding": null,
       "right": null,
       "top": null,
       "visibility": null,
       "width": null
      }
     },
     "fc924c82a82a474d82c5f7a5e0f8be1f": {
      "model_module": "@jupyter-widgets/base",
      "model_module_version": "1.2.0",
      "model_name": "LayoutModel",
      "state": {
       "_model_module": "@jupyter-widgets/base",
       "_model_module_version": "1.2.0",
       "_model_name": "LayoutModel",
       "_view_count": null,
       "_view_module": "@jupyter-widgets/base",
       "_view_module_version": "1.2.0",
       "_view_name": "LayoutView",
       "align_content": null,
       "align_items": null,
       "align_self": null,
       "border": null,
       "bottom": null,
       "display": null,
       "flex": null,
       "flex_flow": null,
       "grid_area": null,
       "grid_auto_columns": null,
       "grid_auto_flow": null,
       "grid_auto_rows": null,
       "grid_column": null,
       "grid_gap": null,
       "grid_row": null,
       "grid_template_areas": null,
       "grid_template_columns": null,
       "grid_template_rows": null,
       "height": null,
       "justify_content": null,
       "justify_items": null,
       "left": null,
       "margin": null,
       "max_height": null,
       "max_width": null,
       "min_height": null,
       "min_width": null,
       "object_fit": null,
       "object_position": null,
       "order": null,
       "overflow": null,
       "overflow_x": null,
       "overflow_y": null,
       "padding": null,
       "right": null,
       "top": null,
       "visibility": null,
       "width": null
      }
     },
     "fdbc9d9f86d040b9a6b618a4d9b4afeb": {
      "model_module": "@jupyter-widgets/controls",
      "model_module_version": "1.5.0",
      "model_name": "ProgressStyleModel",
      "state": {
       "_model_module": "@jupyter-widgets/controls",
       "_model_module_version": "1.5.0",
       "_model_name": "ProgressStyleModel",
       "_view_count": null,
       "_view_module": "@jupyter-widgets/base",
       "_view_module_version": "1.2.0",
       "_view_name": "StyleView",
       "bar_color": null,
       "description_width": ""
      }
     },
     "fe660f8452f4450f84b29145317408ad": {
      "model_module": "@jupyter-widgets/controls",
      "model_module_version": "1.5.0",
      "model_name": "ProgressStyleModel",
      "state": {
       "_model_module": "@jupyter-widgets/controls",
       "_model_module_version": "1.5.0",
       "_model_name": "ProgressStyleModel",
       "_view_count": null,
       "_view_module": "@jupyter-widgets/base",
       "_view_module_version": "1.2.0",
       "_view_name": "StyleView",
       "bar_color": null,
       "description_width": ""
      }
     }
    },
    "version_major": 2,
    "version_minor": 0
   }
  }
 },
 "nbformat": 4,
 "nbformat_minor": 4
}
